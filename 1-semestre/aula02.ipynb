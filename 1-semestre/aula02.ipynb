{
 "cells": [
  {
   "cell_type": "code",
   "execution_count": 1,
   "metadata": {},
   "outputs": [],
   "source": [
    "from sympy import *\n"
   ]
  },
  {
   "cell_type": "code",
   "execution_count": 17,
   "metadata": {},
   "outputs": [
    {
     "data": {
      "text/plain": [
       "True"
      ]
     },
     "execution_count": 17,
     "metadata": {},
     "output_type": "execute_result"
    }
   ],
   "source": [
    "nota = 7\n",
    "media = 8\n",
    "\n",
    "nota != media"
   ]
  },
  {
   "cell_type": "code",
   "execution_count": 19,
   "metadata": {},
   "outputs": [
    {
     "name": "stdout",
     "output_type": "stream",
     "text": [
      "12.56\n"
     ]
    }
   ],
   "source": [
    "pi = 3.14\n",
    "r = float(input(\"valor de r\"))\n",
    "area = pi * r**2\n",
    "print(area)"
   ]
  },
  {
   "cell_type": "code",
   "execution_count": 28,
   "metadata": {},
   "outputs": [
    {
     "name": "stdout",
     "output_type": "stream",
     "text": [
      "A média das notas é: 7.0\n",
      "O aluno está aprovado\n"
     ]
    }
   ],
   "source": [
    "m1 = float(input(\"valor da matéria 1\"))\n",
    "m2 = float(input(\"valor da matéria 2\"))\n",
    "m3 = float(input(\"valor da matéria 3\"))\n",
    "\n",
    "soma = [m1, m2, m3]\n",
    "media = sum(soma) / 3\n",
    "\n",
    "print('A média das notas é:', media )\n",
    "\n",
    "if media >= 7:\n",
    "    print('O aluno está aprovado'7)\n",
    "else:\n",
    "    print(\"Aluno reprovado\")\n",
    "\n",
    "    "
   ]
  },
  {
   "cell_type": "code",
   "execution_count": 58,
   "metadata": {},
   "outputs": [
    {
     "data": {
      "text/plain": [
       "'joao '"
      ]
     },
     "execution_count": 58,
     "metadata": {},
     "output_type": "execute_result"
    }
   ],
   "source": [
    "# pegando uma parte específica de uma string\n",
    "b = (\"joao e maria comem pao\")\n",
    "\n",
    "b[0:5]"
   ]
  },
  {
   "cell_type": "code",
   "execution_count": 50,
   "metadata": {},
   "outputs": [
    {
     "data": {
      "text/plain": [
       "'python é demais!'"
      ]
     },
     "execution_count": 50,
     "metadata": {},
     "output_type": "execute_result"
    }
   ],
   "source": [
    "# concatenação\n",
    "\n",
    "s = \"python \"\n",
    "t = \"é \"\n",
    "u = \"demais!\"\n",
    "\n",
    "s + t + u"
   ]
  },
  {
   "cell_type": "code",
   "execution_count": 57,
   "metadata": {},
   "outputs": [
    {
     "data": {
      "text/plain": [
       "'100.91'"
      ]
     },
     "execution_count": 57,
     "metadata": {},
     "output_type": "execute_result"
    }
   ],
   "source": [
    "# desprezando casas decimais\n",
    "\n",
    "\"%.2f\" % 100.9090909090"
   ]
  },
  {
   "cell_type": "code",
   "execution_count": 71,
   "metadata": {},
   "outputs": [
    {
     "data": {
      "text/plain": [
       "'João tem 20 e apenas R$500.50 no bolso'"
      ]
     },
     "execution_count": 71,
     "metadata": {},
     "output_type": "execute_result"
    }
   ],
   "source": [
    "#operações com strings\n",
    "\"%s tem %d e apenas R$%.2f no bolso\"%(\"João\", 20, 500.5)"
   ]
  },
  {
   "cell_type": "code",
   "execution_count": 68,
   "metadata": {},
   "outputs": [
    {
     "data": {
      "text/plain": [
       "'João tem 20 e apenas R$500.50 no bolso'"
      ]
     },
     "execution_count": 68,
     "metadata": {},
     "output_type": "execute_result"
    }
   ],
   "source": [
    "grana = 500.50000000000\n",
    "idade = 20\n",
    "nome = \"João\"\n",
    "\n",
    "\"%s tem %d e apenas R$%.2f no bolso\"%(nome, idade, grana)"
   ]
  },
  {
   "cell_type": "code",
   "execution_count": 69,
   "metadata": {},
   "outputs": [
    {
     "data": {
      "text/plain": [
       "'João tem 20 anos e R$500.5 no bolso.'"
      ]
     },
     "execution_count": 69,
     "metadata": {},
     "output_type": "execute_result"
    }
   ],
   "source": [
    "grana = 500.50\n",
    "idade = 20\n",
    "nome = \"João\"\n",
    "\"{} tem {} anos e R${} no bolso.\".format(nome, idade, grana)"
   ]
  },
  {
   "cell_type": "code",
   "execution_count": 70,
   "metadata": {},
   "outputs": [
    {
     "data": {
      "text/plain": [
       "'João tem 20 e R$500.5 no bolso.'"
      ]
     },
     "execution_count": 70,
     "metadata": {},
     "output_type": "execute_result"
    }
   ],
   "source": [
    "grana = 500.50\n",
    "idade = 20\n",
    "nome = \"João\"\n",
    "f\"{nome} tem {idade} e R${grana} no bolso.\" "
   ]
  },
  {
   "cell_type": "code",
   "execution_count": 78,
   "metadata": {},
   "outputs": [
    {
     "name": "stdout",
     "output_type": "stream",
     "text": [
      "O valor da dívida é de 10.0 reais\n"
     ]
    }
   ],
   "source": [
    "#sequência e tempo em variáveis\n",
    "\n",
    "d = 0\n",
    "\n",
    "d = d + float(input(\"Qual o valor da primeira compra?\"))\n",
    "d = d + float(input(\"Qual o valor da segunda compra?\"))\n",
    "d = d + float(input(\"Qual o valor da terceira compra?\"))\n",
    "d = d + float(input(\"Qual o valor da última compra?\"))\n",
    "print(\"O valor da dívida é de\", d, \"reais\")"
   ]
  },
  {
   "cell_type": "code",
   "execution_count": 79,
   "metadata": {},
   "outputs": [
    {
     "name": "stdout",
     "output_type": "stream",
     "text": [
      "50.0\n"
     ]
    }
   ],
   "source": [
    "d = 0\n",
    "\n",
    "d = d + float(input(\"Qual o valor da primeira compra?\"))\n",
    "p = float(input(\"Qual o valor pago?\"))\n",
    "\n",
    "d = d - p\n",
    "\n",
    "print(d)"
   ]
  },
  {
   "cell_type": "code",
   "execution_count": 85,
   "metadata": {},
   "outputs": [
    {
     "name": "stdout",
     "output_type": "stream",
     "text": [
      "Você digitou dagalera\n",
      "Olá dagalera\n"
     ]
    }
   ],
   "source": [
    "# retomando valores inputados\n",
    "\n",
    "nome = input(\"Qual o seu nome?\")\n",
    "print(f\"Você digitou {nome}\")\n",
    "print(f\"Olá {nome}\")"
   ]
  },
  {
   "cell_type": "code",
   "execution_count": 86,
   "metadata": {},
   "outputs": [
    {
     "name": "stdout",
     "output_type": "stream",
     "text": [
      "O valor do bonus será: 18000.0\n"
     ]
    }
   ],
   "source": [
    "anos = int(input(\"Anos de trabalho\"))\n",
    "valor_por_ano = float(input(\"Valor por ano\"))\n",
    "bonus = anos * valor_por_ano \n",
    "\n",
    "print(f\"O valor do bonus será: {bonus}\")"
   ]
  },
  {
   "cell_type": "code",
   "execution_count": 89,
   "metadata": {},
   "outputs": [
    {
     "name": "stdout",
     "output_type": "stream",
     "text": [
      "o valor do bonus será: 2400.0\n"
     ]
    }
   ],
   "source": [
    "anos = int(input(\"Anos de trabalho\"))\n",
    "valor_por_ano = float(input(\"Valor por ano\"))\n",
    "\n",
    "print(f\"o valor do bonus será: {anos * valor_por_ano}\")"
   ]
  },
  {
   "cell_type": "code",
   "execution_count": null,
   "metadata": {},
   "outputs": [],
   "source": [
    "#operações com strings\n",
    "\"%s tem %d e apenas R$%.2f no bolso\"%(\"João\", 20, 500.5)"
   ]
  },
  {
   "cell_type": "code",
   "execution_count": 3,
   "metadata": {},
   "outputs": [
    {
     "data": {
      "text/plain": [
       "'O valor em milímetros de 100 m é de 10000 mm'"
      ]
     },
     "execution_count": 3,
     "metadata": {},
     "output_type": "execute_result"
    }
   ],
   "source": [
    "# Escreva um programa que leia um valor em metros e o exiba convertido em milímetros.\n",
    "\n",
    "valor = int(input(\"Insira um valor em metros\"))\n",
    "valor2 = valor * 1000\n",
    "\n",
    "\"O valor em milímetros de %d m é de %d mm\"%(valor, valor2)"
   ]
  },
  {
   "cell_type": "code",
   "execution_count": 6,
   "metadata": {},
   "outputs": [
    {
     "data": {
      "text/plain": [
       "'O total em segundos do valor inputado é de 90061'"
      ]
     },
     "execution_count": 6,
     "metadata": {},
     "output_type": "execute_result"
    }
   ],
   "source": [
    "# Escreva um programa que leia a quantidade de dias, horas, minutos e segundos do usuário. Calcule o total em segundos.\n",
    "\n",
    "inputd = int(input(\"Quantidade de dia\"))\n",
    "inputh = int(input(\"Quantidade de horas\"))\n",
    "inputm = int(input(\"Quantidade de minutos\"))\n",
    "inputs = int(input(\"Quantidade de segundos\"))\n",
    "\n",
    "outputd = inputd * 86400\n",
    "outputh = inputh * 3600\n",
    "outputm = inputm * 60\n",
    "\n",
    "finaloutput = outputd + outputh + outputm + inputs\n",
    "\n",
    "\"O total em segundos do valor inputado é de %d\"%(finaloutput)\n"
   ]
  },
  {
   "cell_type": "code",
   "execution_count": 25,
   "metadata": {},
   "outputs": [
    {
     "data": {
      "text/plain": [
       "'O valor economizado nesta compra foi de R$10.00 . Após computado o desconto, o preço da mercadoria é R$90.00'"
      ]
     },
     "execution_count": 25,
     "metadata": {},
     "output_type": "execute_result"
    }
   ],
   "source": [
    "# Faça um programa que solicite o preço de uma mercadoria e o percentual de desconto. Exiba o valor do desconto e o preço a se pagar.\n",
    "\n",
    "preço = float(input(\"Qual o valor integral da mercadoria?\"))\n",
    "desconto = float(input(\"Qual o percentual de desconto aplicado sobre a mercadoria?\"))\n",
    "\n",
    "valor_desconto = preço * (desconto / 100)\n",
    "pagamento = preço - valor_desconto\n",
    "\n",
    "\"O valor economizado nesta compra foi de R$%.2f . Após computado o desconto, o preço da mercadoria é R$%.2f\"%(valor_desconto, pagamento)"
   ]
  },
  {
   "cell_type": "code",
   "execution_count": 26,
   "metadata": {},
   "outputs": [
    {
     "data": {
      "text/plain": [
       "'O tempo estimado para o percurso é de 5.00 segundos.'"
      ]
     },
     "execution_count": 26,
     "metadata": {},
     "output_type": "execute_result"
    }
   ],
   "source": [
    "# Escreva um programa que calcule o tempo de um viagem de carro. Pergunte a distância a percorrer e a velocidade média esperada para a viagem.\n",
    "\n",
    "deltaS = float(input(\"Qual a distância total percorrida durante a viagem? (em metros)\"))\n",
    "Vm = float(input(\"Qual a velocidade média esperada durante o trajeto? (em metros por segundo )\" ))\n",
    "\n",
    "deltaT = deltaS / Vm\n",
    "\n",
    "\"O tempo estimado para o percurso é de %.2f segundos.\"%(deltaT)"
   ]
  },
  {
   "cell_type": "code",
   "execution_count": 29,
   "metadata": {},
   "outputs": [
    {
     "data": {
      "text/plain": [
       "'A temperatura digitada em Celsius foi de 100.000000, o que equivale à 212.000000 graus Fahrenheit'"
      ]
     },
     "execution_count": 29,
     "metadata": {},
     "output_type": "execute_result"
    }
   ],
   "source": [
    "# Escreva um programa que converta uma temperatura digitada em celsius para fahrenheit. \n",
    "\n",
    "tempC = float(input(\"Qual a temperatura em Celsius?\"))\n",
    "\n",
    "tempF = ((9 * tempC) / 5) + 32\n",
    "\n",
    "\"A temperatura digitada em Celsius foi de %f, o que equivale à %f graus Fahrenheit\"%(tempC, tempF)\n"
   ]
  },
  {
   "cell_type": "code",
   "execution_count": 32,
   "metadata": {},
   "outputs": [
    {
     "data": {
      "text/plain": [
       "'O preço total a se pagar pelo aluguel do carro é de R$75.00!'"
      ]
     },
     "execution_count": 32,
     "metadata": {},
     "output_type": "execute_result"
    }
   ],
   "source": [
    "# Escreva um programa que calcule o preço do aluguel de um carro em função da duração do aluguel em dias e dos km percorridos pelo carro.\n",
    "\n",
    "days = int(input(\"Quantos dias durou o aluguel do veículo?\"))\n",
    "km = float(input(\"Qual foi a variação na quilometragem do carro durante o período de aluguel?\"))\n",
    "\n",
    "preço = (days * 60) + km * 0.15\n",
    "\n",
    "\"O preço total a se pagar pelo aluguel do carro é de R$%.2f!\"%(preço)"
   ]
  },
  {
   "cell_type": "code",
   "execution_count": null,
   "metadata": {},
   "outputs": [],
   "source": [
    "\n"
   ]
  }
 ],
 "metadata": {
  "kernelspec": {
   "display_name": "Python 3",
   "language": "python",
   "name": "python3"
  },
  "language_info": {
   "codemirror_mode": {
    "name": "ipython",
    "version": 3
   },
   "file_extension": ".py",
   "mimetype": "text/x-python",
   "name": "python",
   "nbconvert_exporter": "python",
   "pygments_lexer": "ipython3",
   "version": "3.11.5"
  },
  "orig_nbformat": 4
 },
 "nbformat": 4,
 "nbformat_minor": 2
}
