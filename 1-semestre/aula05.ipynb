{
 "cells": [
  {
   "cell_type": "code",
   "execution_count": 3,
   "metadata": {},
   "outputs": [
    {
     "name": "stdout",
     "output_type": "stream",
     "text": [
      "Collecting sympy\n",
      "  Downloading sympy-1.12-py3-none-any.whl (5.7 MB)\n",
      "                                              0.0/5.7 MB ? eta -:--:--\n",
      "     ---                                      0.5/5.7 MB 10.7 MB/s eta 0:00:01\n",
      "     -------                                  1.1/5.7 MB 11.2 MB/s eta 0:00:01\n",
      "     ----------                               1.5/5.7 MB 10.2 MB/s eta 0:00:01\n",
      "     ------------                             1.8/5.7 MB 10.5 MB/s eta 0:00:01\n",
      "     ------------                             1.8/5.7 MB 10.5 MB/s eta 0:00:01\n",
      "     ------------                             1.8/5.7 MB 10.5 MB/s eta 0:00:01\n",
      "     ------------                             1.8/5.7 MB 10.5 MB/s eta 0:00:01\n",
      "     ------------                             1.8/5.7 MB 10.5 MB/s eta 0:00:01\n",
      "     ------------                             1.8/5.7 MB 10.5 MB/s eta 0:00:01\n",
      "     ------------                             1.8/5.7 MB 10.5 MB/s eta 0:00:01\n",
      "     ------------                             1.8/5.7 MB 10.5 MB/s eta 0:00:01\n",
      "     ------------                             1.8/5.7 MB 10.5 MB/s eta 0:00:01\n",
      "     ------------                             1.8/5.7 MB 10.5 MB/s eta 0:00:01\n",
      "     ------------                             1.8/5.7 MB 10.5 MB/s eta 0:00:01\n",
      "     ------------                             1.8/5.7 MB 10.5 MB/s eta 0:00:01\n",
      "     ------------                             1.8/5.7 MB 10.5 MB/s eta 0:00:01\n",
      "     ------------                             1.8/5.7 MB 10.5 MB/s eta 0:00:01\n",
      "     ------------                             1.8/5.7 MB 10.5 MB/s eta 0:00:01\n",
      "     --------------                           2.1/5.7 MB 2.3 MB/s eta 0:00:02\n",
      "     ----------------                         2.4/5.7 MB 2.5 MB/s eta 0:00:02\n",
      "     ------------------                       2.6/5.7 MB 2.7 MB/s eta 0:00:02\n",
      "     ----------------------                   3.2/5.7 MB 3.1 MB/s eta 0:00:01\n",
      "     -------------------------                3.6/5.7 MB 3.4 MB/s eta 0:00:01\n",
      "     -------------------------                3.7/5.7 MB 3.4 MB/s eta 0:00:01\n",
      "     -------------------------                3.7/5.7 MB 3.4 MB/s eta 0:00:01\n",
      "     -------------------------                3.7/5.7 MB 3.4 MB/s eta 0:00:01\n",
      "     -------------------------                3.7/5.7 MB 3.4 MB/s eta 0:00:01\n",
      "     -------------------------                3.7/5.7 MB 3.4 MB/s eta 0:00:01\n",
      "     -------------------------                3.7/5.7 MB 3.4 MB/s eta 0:00:01\n",
      "     -------------------------                3.7/5.7 MB 3.4 MB/s eta 0:00:01\n",
      "     -------------------------                3.7/5.7 MB 3.4 MB/s eta 0:00:01\n",
      "     -------------------------                3.7/5.7 MB 3.4 MB/s eta 0:00:01\n",
      "     -------------------------                3.7/5.7 MB 3.4 MB/s eta 0:00:01\n",
      "     -------------------------                3.7/5.7 MB 3.4 MB/s eta 0:00:01\n",
      "     -------------------------                3.7/5.7 MB 3.4 MB/s eta 0:00:01\n",
      "     -------------------------                3.7/5.7 MB 3.4 MB/s eta 0:00:01\n",
      "     -------------------------                3.7/5.7 MB 3.4 MB/s eta 0:00:01\n",
      "     ----------------------------             4.1/5.7 MB 2.3 MB/s eta 0:00:01\n",
      "     -------------------------------          4.5/5.7 MB 2.5 MB/s eta 0:00:01\n",
      "     ---------------------------------        4.8/5.7 MB 2.5 MB/s eta 0:00:01\n",
      "     ----------------------------------       4.9/5.7 MB 2.6 MB/s eta 0:00:01\n",
      "     ----------------------------------       5.0/5.7 MB 2.6 MB/s eta 0:00:01\n",
      "     ------------------------------------     5.2/5.7 MB 2.6 MB/s eta 0:00:01\n",
      "     --------------------------------------   5.5/5.7 MB 2.7 MB/s eta 0:00:01\n",
      "     --------------------------------------   5.5/5.7 MB 2.7 MB/s eta 0:00:01\n",
      "     --------------------------------------   5.5/5.7 MB 2.7 MB/s eta 0:00:01\n",
      "     --------------------------------------   5.5/5.7 MB 2.7 MB/s eta 0:00:01\n",
      "     --------------------------------------   5.5/5.7 MB 2.7 MB/s eta 0:00:01\n",
      "     --------------------------------------   5.5/5.7 MB 2.7 MB/s eta 0:00:01\n",
      "     ---------------------------------------  5.6/5.7 MB 2.4 MB/s eta 0:00:01\n",
      "     ---------------------------------------  5.7/5.7 MB 2.4 MB/s eta 0:00:01\n",
      "     ---------------------------------------- 5.7/5.7 MB 2.4 MB/s eta 0:00:00\n",
      "Collecting mpmath>=0.19 (from sympy)\n",
      "  Downloading mpmath-1.3.0-py3-none-any.whl (536 kB)\n",
      "                                              0.0/536.2 kB ? eta -:--:--\n",
      "     --------------------                   286.7/536.2 kB 8.9 MB/s eta 0:00:01\n",
      "     -------------------------------------  532.5/536.2 kB 8.4 MB/s eta 0:00:01\n",
      "     -------------------------------------- 536.2/536.2 kB 5.7 MB/s eta 0:00:00\n",
      "Installing collected packages: mpmath, sympy\n",
      "Successfully installed mpmath-1.3.0 sympy-1.12\n",
      "Note: you may need to restart the kernel to use updated packages.\n"
     ]
    },
    {
     "name": "stderr",
     "output_type": "stream",
     "text": [
      "\n",
      "[notice] A new release of pip is available: 23.1.2 -> 23.2.1\n",
      "[notice] To update, run: python.exe -m pip install --upgrade pip\n"
     ]
    }
   ],
   "source": [
    "pip install sympy "
   ]
  },
  {
   "cell_type": "code",
   "execution_count": 4,
   "metadata": {},
   "outputs": [
    {
     "name": "stdout",
     "output_type": "stream",
     "text": [
      "2\n",
      "3\n",
      "4\n",
      "5\n",
      "6\n",
      "7\n",
      "8\n",
      "9\n"
     ]
    }
   ],
   "source": [
    "from sympy import *\n",
    "fim = int(input('Digite um número'))\n",
    "x = 1\n",
    "while x <= fim:\n",
    "    x = x + 1\n",
    "    print(x)"
   ]
  },
  {
   "cell_type": "code",
   "execution_count": 6,
   "metadata": {},
   "outputs": [
    {
     "name": "stdout",
     "output_type": "stream",
     "text": [
      "2\n",
      "3\n",
      "4\n",
      "5\n",
      "6\n",
      "7\n",
      "8\n",
      "9\n",
      "10\n",
      "11\n"
     ]
    }
   ],
   "source": [
    "fim = int(input('Digite um número'))\n",
    "x = 1\n",
    "while x <= fim:\n",
    "    x += 1\n",
    "    print(x)"
   ]
  },
  {
   "cell_type": "code",
   "execution_count": 7,
   "metadata": {},
   "outputs": [
    {
     "name": "stdout",
     "output_type": "stream",
     "text": [
      "40\n",
      "30\n",
      "20\n",
      "10\n"
     ]
    }
   ],
   "source": [
    "l1 = [10, 20, 30, 40]\n",
    "\n",
    "nl1 = reversed(l1)\n",
    "for x in nl1:\n",
    "    print(x)"
   ]
  },
  {
   "cell_type": "code",
   "execution_count": 9,
   "metadata": {},
   "outputs": [
    {
     "name": "stdout",
     "output_type": "stream",
     "text": [
      "20 40 60 80 100 "
     ]
    }
   ],
   "source": [
    "l2 = [10,20,30,40,50,60,70,80,90,100]\n",
    "\n",
    "for i in l2[1::2]:\n",
    "    print(i, end=' ')"
   ]
  },
  {
   "cell_type": "code",
   "execution_count": 13,
   "metadata": {},
   "outputs": [
    {
     "name": "stdout",
     "output_type": "stream",
     "text": [
      "[0, 1, 2, 3, 4, 5, 6, 7, 8, 9]\n"
     ]
    }
   ],
   "source": [
    "my_list = []\n",
    "\n",
    "i = 0\n",
    "\n",
    "while len(my_list) < 10:\n",
    "    my_list.append(i)\n",
    "    i += 1\n",
    "print(my_list)"
   ]
  },
  {
   "cell_type": "code",
   "execution_count": 14,
   "metadata": {},
   "outputs": [
    {
     "data": {
      "text/plain": [
       "[]"
      ]
     },
     "execution_count": 14,
     "metadata": {},
     "output_type": "execute_result"
    }
   ],
   "source": [
    "var_a = []\n",
    "var_a"
   ]
  },
  {
   "cell_type": "code",
   "execution_count": 19,
   "metadata": {},
   "outputs": [
    {
     "name": "stdout",
     "output_type": "stream",
     "text": [
      "115\n"
     ]
    }
   ],
   "source": [
    "l2 = [23, 45, 12, 10, 25]\n",
    "\n",
    "i = 0\n",
    "soma = 0\n",
    "\n",
    "while i < len(l2):\n",
    "    soma += l2[i]\n",
    "    i += 1\n",
    "print(soma)  \n",
    "# só usa sum aí   "
   ]
  },
  {
   "cell_type": "code",
   "execution_count": 22,
   "metadata": {},
   "outputs": [
    {
     "name": "stdout",
     "output_type": "stream",
     "text": [
      "5 * 1 = 5\n",
      "5 * 2 = 10\n",
      "5 * 3 = 15\n",
      "5 * 4 = 20\n",
      "5 * 5 = 25\n",
      "5 * 6 = 30\n",
      "5 * 7 = 35\n",
      "5 * 8 = 40\n",
      "5 * 9 = 45\n"
     ]
    }
   ],
   "source": [
    "# criando uma tabuada\n",
    "a = 5\n",
    "b = 1\n",
    "\n",
    "while b <= 9:\n",
    "    print(\"%d * %d = %d\"%(a, b, a*b))\n",
    "    b += 1"
   ]
  },
  {
   "attachments": {},
   "cell_type": "markdown",
   "metadata": {},
   "source": [
    "Crie um algoritmo para gerar uma tabuada personalizada, na qual o usuário\n",
    "insira um número e um múltiplo para gerar a tabuada."
   ]
  },
  {
   "cell_type": "code",
   "execution_count": 38,
   "metadata": {},
   "outputs": [
    {
     "name": "stdout",
     "output_type": "stream",
     "text": [
      "10 * 0 = 0\n",
      "10 * 1 = 10\n",
      "10 * 2 = 20\n",
      "10 * 3 = 30\n",
      "10 * 4 = 40\n",
      "10 * 5 = 50\n",
      "10 * 6 = 60\n",
      "10 * 7 = 70\n",
      "10 * 8 = 80\n",
      "10 * 9 = 90\n",
      "10 * 10 = 100\n",
      "10 * 11 = 110\n",
      "10 * 12 = 120\n",
      "10 * 13 = 130\n",
      "10 * 14 = 140\n",
      "10 * 15 = 150\n",
      "10 * 16 = 160\n",
      "10 * 17 = 170\n",
      "10 * 18 = 180\n",
      "10 * 19 = 190\n",
      "10 * 20 = 200\n"
     ]
    }
   ],
   "source": [
    "n1 = int(input(\"Insira o primeiro número\"))\n",
    "lim = int(input(\"Até que número você deseja exibir resultados?\"))\n",
    "c = 0\n",
    "while c <= lim:\n",
    "    print(\"%d * %d = %d\"%(n1,c, n1*c))\n",
    "    c += 1\n",
    "    if c > lim:\n",
    "        break"
   ]
  },
  {
   "cell_type": "code",
   "execution_count": 44,
   "metadata": {},
   "outputs": [
    {
     "name": "stdout",
     "output_type": "stream",
     "text": [
      "As letras são: e\n",
      "As letras são: n\n",
      "As letras são: e\n",
      "As letras são: n\n",
      "As letras são: h\n",
      "As letras são: r\n",
      "As letras são: i\n",
      "As letras são:  \n",
      "As letras são: d\n",
      "As letras são: e\n",
      "As letras são:  \n",
      "As letras são: s\n",
      "As letras são: o\n",
      "As letras são: f\n",
      "As letras são: t\n",
      "As letras são: w\n",
      "As letras são: r\n",
      "As letras são: e\n"
     ]
    }
   ],
   "source": [
    "palavra = 'engenharia de software'\n",
    "i = 0\n",
    "\n",
    "while i < len(palavra):\n",
    "    if palavra[i] == 'g' or palavra[i] == 'a':\n",
    "        i += 1\n",
    "        continue\n",
    "    print('As letras são:', palavra[i])\n",
    "    i += 1    "
   ]
  },
  {
   "attachments": {},
   "cell_type": "markdown",
   "metadata": {},
   "source": [
    "Crie um programa para corrigir um teste de múltipla escolha com três\n",
    "questões. A resposta da primeira questão é b, da segunda é a e da terceira é d. Para cada acerto trazer a pontuação final."
   ]
  },
  {
   "cell_type": "code",
   "execution_count": 54,
   "metadata": {},
   "outputs": [
    {
     "name": "stdout",
     "output_type": "stream",
     "text": [
      "Sua nota final é: 1\n"
     ]
    }
   ],
   "source": [
    "respostas = ['b', 'a', 'd']\n",
    "\n",
    "questao1 = str(input(\"Qual a resposta da primeira questão?\"))\n",
    "questao2 = str(input(\"Qual a resposta da segunda questão?\"))\n",
    "questao3 = str(input(\"Qual a resposta da terceira questão?\"))\n",
    "\n",
    "for resposta in respostas:\n",
    "    if questao1 == respostas[0]:\n",
    "        ponto1 = True\n",
    "    else:\n",
    "        ponto1 = False\n",
    "    if questao2 == respostas[1]:\n",
    "        ponto2 = True\n",
    "    else:\n",
    "        ponto2 = False\n",
    "    if questao3 == respostas[2]:\n",
    "        ponto3 = True\n",
    "    else:\n",
    "        ponto3 = False\n",
    "\n",
    "nota = [ponto1, ponto2, ponto3]\n",
    "print('Sua nota final é:', sum(nota))\n"
   ]
  },
  {
   "cell_type": "code",
   "execution_count": 58,
   "metadata": {},
   "outputs": [
    {
     "name": "stdout",
     "output_type": "stream",
     "text": [
      "Sua nota final é: 3\n"
     ]
    }
   ],
   "source": [
    "respostas = ['b', 'a', 'd']\n",
    "\n",
    "questao1 = str(input(\"Qual a resposta da primeira questão?\"))\n",
    "questao2 = str(input(\"Qual a resposta da segunda questão?\"))\n",
    "questao3 = str(input(\"Qual a resposta da terceira questão?\"))\n",
    "\n",
    "for resposta in respostas:\n",
    "    if questao1 == respostas[0]:\n",
    "        ponto1 = True\n",
    "    else:\n",
    "        ponto1 = False\n",
    "    if questao2 == respostas[1]:\n",
    "        ponto2 = True\n",
    "    else:\n",
    "        ponto2 = False\n",
    "    if questao3 == respostas[2]:\n",
    "        ponto3 = True\n",
    "    else:\n",
    "        ponto3 = False\n",
    "\n",
    "\n",
    "print(\"Sua nota final é:\", [ponto1, ponto2, ponto3].count(True))"
   ]
  },
  {
   "cell_type": "code",
   "execution_count": 2,
   "metadata": {},
   "outputs": [
    {
     "name": "stdout",
     "output_type": "stream",
     "text": [
      "Sua pontuação final é de: 1\n",
      "Sua pontuação final é de: 2\n",
      "Sua pontuação final é de: 3\n"
     ]
    }
   ],
   "source": [
    "respostas_corretas = ['b', 'a', 'd']\n",
    "\n",
    "pontuacao = 0\n",
    "questao_atual = 0\n",
    "\n",
    "while questao_atual < 3:\n",
    "    questao_atual += 1\n",
    "    respostan = input(\"Qual a resposta da respectiva questão?\")\n",
    "    if respostan == respostas_corretas[questao_atual - 1]:\n",
    "        pontuacao += 1\n",
    "    print(\"Sua pontuação final é de:\", pontuacao)    \n",
    "\n"
   ]
  },
  {
   "attachments": {},
   "cell_type": "markdown",
   "metadata": {},
   "source": [
    "Escreva um programa que calcule o preço a pagar pelo fornecimento de enegia elétrica. Pergunte a quantidade de kWh consumida e o tipo de instalação. Com valores diferentes para cada tipo de instalação."
   ]
  },
  {
   "cell_type": "code",
   "execution_count": 7,
   "metadata": {},
   "outputs": [
    {
     "name": "stdout",
     "output_type": "stream",
     "text": [
      "50.0\n"
     ]
    }
   ],
   "source": [
    "list_instal = ['R', 'C', 'I']\n",
    "instal = str(input('Qual o tipo de instalação? (R para residencial, C para comercial e I para industrial)'))\n",
    "\n",
    "while instal in list_instal:\n",
    "    if instal == 'R':\n",
    "        expenditure = float(input('Qual o gasto em kWh?'))\n",
    "        if expenditure < 500:\n",
    "            price = expenditure * 0.5\n",
    "            print(price)\n",
    "            break\n",
    "        else:\n",
    "            price = expenditure * 0.75\n",
    "            print(price)\n",
    "            break\n",
    "    elif instal == 'C':\n",
    "        expenditure = float(input('Qual o gasto em kWh?'))\n",
    "        if expenditure < 1000:\n",
    "            price = expenditure * 0.65\n",
    "            print(price)\n",
    "            break\n",
    "        else:\n",
    "            price = expenditure * 0.7\n",
    "            print(price)\n",
    "            break\n",
    "    else:\n",
    "        expenditure = float(input('Qual o gasto em kWh?'))\n",
    "        if instal < 5000:\n",
    "            price = expenditure * 0.65\n",
    "            print(price)\n",
    "            break\n",
    "        else:\n",
    "            price = expenditure * 0.7\n",
    "            print(price)\n",
    "            break    \n",
    "                                \n",
    "                     "
   ]
  }
 ],
 "metadata": {
  "kernelspec": {
   "display_name": "Python 3",
   "language": "python",
   "name": "python3"
  },
  "language_info": {
   "codemirror_mode": {
    "name": "ipython",
    "version": 3
   },
   "file_extension": ".py",
   "mimetype": "text/x-python",
   "name": "python",
   "nbconvert_exporter": "python",
   "pygments_lexer": "ipython3",
   "version": "3.11.4"
  },
  "orig_nbformat": 4
 },
 "nbformat": 4,
 "nbformat_minor": 2
}
