{
 "cells": [
  {
   "attachments": {},
   "cell_type": "markdown",
   "metadata": {},
   "source": [
    "# Equações"
   ]
  },
  {
   "cell_type": "code",
   "execution_count": 9,
   "metadata": {},
   "outputs": [],
   "source": [
    "from sympy import *\n",
    "\n",
    "import pandas as pd "
   ]
  },
  {
   "cell_type": "code",
   "execution_count": 10,
   "metadata": {},
   "outputs": [],
   "source": [
    "x = Symbol('x')"
   ]
  },
  {
   "cell_type": "code",
   "execution_count": null,
   "metadata": {},
   "outputs": [],
   "source": []
  },
  {
   "attachments": {},
   "cell_type": "markdown",
   "metadata": {},
   "source": [
    "# Derivadas\n"
   ]
  },
  {
   "cell_type": "code",
   "execution_count": 11,
   "metadata": {},
   "outputs": [
    {
     "data": {
      "text/latex": [
       "$\\displaystyle \\frac{d}{d x} \\left(10 x^{3} - 20 x + 50\\right)$"
      ],
      "text/plain": [
       "Derivative(10*x**3 - 20*x + 50, x)"
      ]
     },
     "execution_count": 11,
     "metadata": {},
     "output_type": "execute_result"
    }
   ],
   "source": [
    "Derivative(10 * x**3 - 20 * x + 50)"
   ]
  },
  {
   "cell_type": "code",
   "execution_count": 12,
   "metadata": {},
   "outputs": [
    {
     "data": {
      "text/latex": [
       "$\\displaystyle 30 x^{2} - 20$"
      ],
      "text/plain": [
       "30*x**2 - 20"
      ]
     },
     "execution_count": 12,
     "metadata": {},
     "output_type": "execute_result"
    }
   ],
   "source": [
    "Derivative(10 * x**3 - 20 * x + 50).doit()"
   ]
  },
  {
   "cell_type": "code",
   "execution_count": 13,
   "metadata": {},
   "outputs": [
    {
     "data": {
      "text/latex": [
       "$\\displaystyle \\int \\left(x^{2} + \\sin{\\left(x \\right)}\\right)\\, dx$"
      ],
      "text/plain": [
       "Integral(x**2 + sin(x), x)"
      ]
     },
     "execution_count": 13,
     "metadata": {},
     "output_type": "execute_result"
    }
   ],
   "source": [
    "Integral(x**2 + sin(x))"
   ]
  },
  {
   "cell_type": "code",
   "execution_count": 14,
   "metadata": {},
   "outputs": [
    {
     "data": {
      "text/latex": [
       "$\\displaystyle \\lim_{x \\to 0^+}\\left(\\frac{\\tan{\\left(x \\right)}}{x}\\right)$"
      ],
      "text/plain": [
       "Limit(tan(x)/x, x, 0, dir='+')"
      ]
     },
     "execution_count": 14,
     "metadata": {},
     "output_type": "execute_result"
    }
   ],
   "source": [
    "Limit(tan(x)/x, x, 0, dir='+')"
   ]
  },
  {
   "attachments": {},
   "cell_type": "markdown",
   "metadata": {},
   "source": [
    "# Escrever algoritmo para problema de média de notas de um determinado aluno"
   ]
  },
  {
   "cell_type": "code",
   "execution_count": null,
   "metadata": {},
   "outputs": [],
   "source": []
  },
  {
   "cell_type": "code",
   "execution_count": 15,
   "metadata": {},
   "outputs": [
    {
     "name": "stdout",
     "output_type": "stream",
     "text": [
      "A media deste aluno é:  7.333333333333333\n",
      "Aluno aprovado!\n"
     ]
    }
   ],
   "source": [
    "\n",
    "#Problema 1: Média aluno\n",
    "nota1 = float(input(\"Digite a primeira nota:\"))\n",
    "nota2 = float(input(\"Digite a segunda nota:\"))\n",
    "nota3 = float(input(\"Digite a terceira nota:\"))\n",
    "\n",
    "media = (nota1 + nota2 + nota3) / 3\n",
    "\n",
    "print(\"A media deste aluno é: \", media)\n",
    "\n",
    "if media >= 7:\n",
    "    print(\"Aluno aprovado!\")\n",
    "else:\n",
    "    print(\"Aluno reprovado!\")    "
   ]
  },
  {
   "cell_type": "code",
   "execution_count": 16,
   "metadata": {},
   "outputs": [
    {
     "name": "stdout",
     "output_type": "stream",
     "text": [
      "Valor A é maior do que valor B! 100.0\n"
     ]
    }
   ],
   "source": [
    "#Problema 2: Comparar A e B\n",
    "\n",
    "valor_a = float(input(\"Digite o valor de A\"))\n",
    "valor_b = float(input(\"Digite o valor de B\"))\n",
    "\n",
    "if valor_a > valor_b:\n",
    "    print('Valor A é maior do que valor B!', valor_a )\n",
    "elif valor_a == valor_b:\n",
    "    print('Os valores são iguais!')\n",
    "else:\n",
    "    print('Valor B é maior do que valor A!', valor_b )    "
   ]
  },
  {
   "cell_type": "code",
   "execution_count": 17,
   "metadata": {},
   "outputs": [
    {
     "name": "stdout",
     "output_type": "stream",
     "text": [
      "O valor da área do círculo é 78.53981633974483\n",
      "Área menor do que a desejada!\n"
     ]
    }
   ],
   "source": [
    "# Problema 3: Área de um círculo\n",
    "\n",
    "from sympy import *\n",
    "import math\n",
    "\n",
    "x = Symbol('x')\n",
    "raio = float(input(\"Qual o raio da circunferencia?\"))\n",
    "area = raio**2 * math.pi\n",
    "print(\"O valor da área do círculo é\", area, )\n",
    "\n",
    "# Criar condição para mostra que área é menor do que a desejada\n",
    "# Área > 100 - ok\n",
    "# Área < 100 - não interessa\n",
    "\n",
    "if area > 100:\n",
    "    print(\"Área desejada\", area)\n",
    "else:\n",
    "    print(\"Área menor do que a desejada!\")    "
   ]
  },
  {
   "cell_type": "code",
   "execution_count": 18,
   "metadata": {},
   "outputs": [
    {
     "name": "stdout",
     "output_type": "stream",
     "text": [
      "sexo feminino\n"
     ]
    }
   ],
   "source": [
    "#Problema 4: Ler o sexo de uma pessoa e imprimir uma mensagem informando se \"É homem\" ou se \"É mulher\"\n",
    "\n",
    "sexo = str(input(\"Qual o seu sexo?\"))\n",
    "\n",
    "M = ['M', 'Masculino', 'masculino', 'm']\n",
    "F = ['F', 'f', 'feminino', 'Feminino']\n",
    "\n",
    "if (sexo in M):\n",
    "    print(\"sexo masculino\")\n",
    "elif (sexo in F):\n",
    "    print(\"sexo feminino\")\n",
    "else:\n",
    "    print(\"Erro, insira novamente\")        "
   ]
  }
 ],
 "metadata": {
  "kernelspec": {
   "display_name": "Python 3",
   "language": "python",
   "name": "python3"
  },
  "language_info": {
   "codemirror_mode": {
    "name": "ipython",
    "version": 3
   },
   "file_extension": ".py",
   "mimetype": "text/x-python",
   "name": "python",
   "nbconvert_exporter": "python",
   "pygments_lexer": "ipython3",
   "version": "3.11.4"
  },
  "orig_nbformat": 4
 },
 "nbformat": 4,
 "nbformat_minor": 2
}
