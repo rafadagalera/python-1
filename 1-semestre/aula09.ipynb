{
 "cells": [
  {
   "cell_type": "code",
   "execution_count": 2,
   "metadata": {},
   "outputs": [
    {
     "name": "stdout",
     "output_type": "stream",
     "text": [
      "Note: you may need to restart the kernel to use updated packages.\n"
     ]
    },
    {
     "name": "stderr",
     "output_type": "stream",
     "text": [
      "\n",
      "[notice] A new release of pip is available: 23.1.2 -> 23.3.1\n",
      "[notice] To update, run: python.exe -m pip install --upgrade pip\n"
     ]
    },
    {
     "name": "stdout",
     "output_type": "stream",
     "text": [
      "Collecting pandas\n",
      "  Downloading pandas-2.1.1-cp311-cp311-win_amd64.whl (10.6 MB)\n",
      "                                              0.0/10.6 MB ? eta -:--:--\n",
      "     -                                        0.3/10.6 MB 5.9 MB/s eta 0:00:02\n",
      "     --                                       0.7/10.6 MB 7.4 MB/s eta 0:00:02\n",
      "     ----                                     1.2/10.6 MB 8.1 MB/s eta 0:00:02\n",
      "     ------                                   1.6/10.6 MB 8.7 MB/s eta 0:00:02\n",
      "     ------                                   1.6/10.6 MB 8.7 MB/s eta 0:00:02\n",
      "     ------                                   1.7/10.6 MB 6.1 MB/s eta 0:00:02\n",
      "     -------                                  2.0/10.6 MB 6.0 MB/s eta 0:00:02\n",
      "     --------                                 2.4/10.6 MB 6.3 MB/s eta 0:00:02\n",
      "     ----------                               2.8/10.6 MB 6.7 MB/s eta 0:00:02\n",
      "     ------------                             3.3/10.6 MB 7.1 MB/s eta 0:00:02\n",
      "     -------------                            3.5/10.6 MB 7.2 MB/s eta 0:00:02\n",
      "     -------------                            3.5/10.6 MB 7.2 MB/s eta 0:00:02\n",
      "     -------------                            3.5/10.6 MB 7.2 MB/s eta 0:00:02\n",
      "     -------------                            3.5/10.6 MB 7.2 MB/s eta 0:00:02\n",
      "     -------------                            3.5/10.6 MB 7.2 MB/s eta 0:00:02\n",
      "     -------------                            3.5/10.6 MB 7.2 MB/s eta 0:00:02\n",
      "     -------------                            3.7/10.6 MB 4.6 MB/s eta 0:00:02\n",
      "     ---------------                          4.1/10.6 MB 4.8 MB/s eta 0:00:02\n",
      "     ----------------                         4.4/10.6 MB 5.0 MB/s eta 0:00:02\n",
      "     ------------------                       4.8/10.6 MB 5.1 MB/s eta 0:00:02\n",
      "     -------------------                      5.2/10.6 MB 5.3 MB/s eta 0:00:02\n",
      "     --------------------                     5.3/10.6 MB 5.3 MB/s eta 0:00:02\n",
      "     --------------------                     5.3/10.6 MB 5.3 MB/s eta 0:00:02\n",
      "     --------------------                     5.3/10.6 MB 5.3 MB/s eta 0:00:02\n",
      "     --------------------                     5.3/10.6 MB 5.3 MB/s eta 0:00:02\n",
      "     --------------------                     5.3/10.6 MB 5.3 MB/s eta 0:00:02\n",
      "     --------------------                     5.3/10.6 MB 5.3 MB/s eta 0:00:02\n",
      "     --------------------                     5.3/10.6 MB 5.3 MB/s eta 0:00:02\n",
      "     --------------------                     5.3/10.6 MB 5.3 MB/s eta 0:00:02\n",
      "     --------------------                     5.3/10.6 MB 5.3 MB/s eta 0:00:02\n",
      "     --------------------                     5.3/10.6 MB 5.3 MB/s eta 0:00:02\n",
      "     --------------------                     5.3/10.6 MB 5.3 MB/s eta 0:00:02\n",
      "     --------------------                     5.3/10.6 MB 5.3 MB/s eta 0:00:02\n",
      "     --------------------                     5.3/10.6 MB 5.3 MB/s eta 0:00:02\n",
      "     --------------------                     5.3/10.6 MB 5.3 MB/s eta 0:00:02\n",
      "     --------------------                     5.3/10.6 MB 5.3 MB/s eta 0:00:02\n",
      "     --------------------                     5.4/10.6 MB 3.1 MB/s eta 0:00:02\n",
      "     ---------------------                    5.7/10.6 MB 3.2 MB/s eta 0:00:02\n",
      "     ----------------------                   5.9/10.6 MB 3.2 MB/s eta 0:00:02\n",
      "     -----------------------                  6.3/10.6 MB 3.3 MB/s eta 0:00:02\n",
      "     ------------------------                 6.5/10.6 MB 3.4 MB/s eta 0:00:02\n",
      "     -------------------------                6.8/10.6 MB 3.5 MB/s eta 0:00:02\n",
      "     --------------------------               7.2/10.6 MB 3.6 MB/s eta 0:00:01\n",
      "     --------------------------               7.2/10.6 MB 3.6 MB/s eta 0:00:01\n",
      "     --------------------------               7.2/10.6 MB 3.6 MB/s eta 0:00:01\n",
      "     --------------------------               7.2/10.6 MB 3.6 MB/s eta 0:00:01\n",
      "     --------------------------               7.2/10.6 MB 3.6 MB/s eta 0:00:01\n",
      "     --------------------------               7.2/10.6 MB 3.6 MB/s eta 0:00:01\n",
      "     --------------------------               7.2/10.6 MB 3.6 MB/s eta 0:00:01\n",
      "     ---------------------------              7.2/10.6 MB 3.1 MB/s eta 0:00:02\n",
      "     ----------------------------             7.5/10.6 MB 3.1 MB/s eta 0:00:02\n",
      "     ----------------------------             7.7/10.6 MB 3.2 MB/s eta 0:00:01\n",
      "     ------------------------------           8.0/10.6 MB 3.2 MB/s eta 0:00:01\n",
      "     -------------------------------          8.3/10.6 MB 3.3 MB/s eta 0:00:01\n",
      "     --------------------------------         8.6/10.6 MB 3.3 MB/s eta 0:00:01\n",
      "     ---------------------------------        9.0/10.6 MB 3.4 MB/s eta 0:00:01\n",
      "     ---------------------------------        9.0/10.6 MB 3.4 MB/s eta 0:00:01\n",
      "     ---------------------------------        9.0/10.6 MB 3.4 MB/s eta 0:00:01\n",
      "     ---------------------------------        9.0/10.6 MB 3.4 MB/s eta 0:00:01\n",
      "     ---------------------------------        9.0/10.6 MB 3.4 MB/s eta 0:00:01\n",
      "     ---------------------------------        9.0/10.6 MB 3.4 MB/s eta 0:00:01\n",
      "     ---------------------------------        9.0/10.6 MB 3.4 MB/s eta 0:00:01\n",
      "     ---------------------------------        9.0/10.6 MB 3.1 MB/s eta 0:00:01\n",
      "     ----------------------------------       9.2/10.6 MB 3.1 MB/s eta 0:00:01\n",
      "     -----------------------------------      9.4/10.6 MB 3.1 MB/s eta 0:00:01\n",
      "     ------------------------------------     9.7/10.6 MB 3.1 MB/s eta 0:00:01\n",
      "     -------------------------------------    9.9/10.6 MB 3.1 MB/s eta 0:00:01\n",
      "     --------------------------------------   10.2/10.6 MB 3.2 MB/s eta 0:00:01\n",
      "     ---------------------------------------  10.5/10.6 MB 3.2 MB/s eta 0:00:01\n",
      "     ---------------------------------------  10.6/10.6 MB 3.2 MB/s eta 0:00:01\n",
      "     ---------------------------------------  10.6/10.6 MB 3.2 MB/s eta 0:00:01\n",
      "     ---------------------------------------  10.6/10.6 MB 3.2 MB/s eta 0:00:01\n",
      "     ---------------------------------------- 10.6/10.6 MB 3.1 MB/s eta 0:00:00\n",
      "Requirement already satisfied: numpy>=1.23.2 in c:\\python311\\lib\\site-packages (from pandas) (1.26.1)\n",
      "Requirement already satisfied: python-dateutil>=2.8.2 in c:\\python311\\lib\\site-packages (from pandas) (2.8.2)\n",
      "Collecting pytz>=2020.1 (from pandas)\n",
      "  Downloading pytz-2023.3.post1-py2.py3-none-any.whl (502 kB)\n",
      "                                              0.0/502.5 kB ? eta -:--:--\n",
      "     -----------------                      225.3/502.5 kB 6.9 MB/s eta 0:00:01\n",
      "     -------------------------------------  501.8/502.5 kB 6.3 MB/s eta 0:00:01\n",
      "     -------------------------------------- 502.5/502.5 kB 5.2 MB/s eta 0:00:00\n",
      "Collecting tzdata>=2022.1 (from pandas)\n",
      "  Using cached tzdata-2023.3-py2.py3-none-any.whl (341 kB)\n",
      "Requirement already satisfied: six>=1.5 in c:\\python311\\lib\\site-packages (from python-dateutil>=2.8.2->pandas) (1.16.0)\n",
      "Installing collected packages: pytz, tzdata, pandas\n",
      "Successfully installed pandas-2.1.1 pytz-2023.3.post1 tzdata-2023.3\n"
     ]
    }
   ],
   "source": [
    "pip install pandas\n"
   ]
  },
  {
   "cell_type": "code",
   "execution_count": 12,
   "metadata": {},
   "outputs": [
    {
     "data": {
      "text/plain": [
       "<bound method DataFrame.info of       Nome  Idade\n",
       "0    Alice     25\n",
       "1      Bob     30\n",
       "2  Charlie     22>"
      ]
     },
     "execution_count": 12,
     "metadata": {},
     "output_type": "execute_result"
    }
   ],
   "source": [
    "import pandas as pd\n",
    "\n",
    "data = {\n",
    "    'Nome': ['Alice','Bob', 'Charlie'],\n",
    "    'Idade': [25,30,22]\n",
    "}\n",
    "df = pd.DataFrame(data)\n",
    "df.info"
   ]
  },
  {
   "cell_type": "code",
   "execution_count": 13,
   "metadata": {},
   "outputs": [
    {
     "name": "stdout",
     "output_type": "stream",
     "text": [
      "Nome     Alice\n",
      "Idade       25\n",
      "Name: 0, dtype: object\n",
      "Nome     Bob\n",
      "Idade     30\n",
      "Name: 1, dtype: object\n",
      "Nome     Charlie\n",
      "Idade         22\n",
      "Name: 2, dtype: object\n"
     ]
    }
   ],
   "source": [
    "i = 0\n",
    "while i < len(df):\n",
    "    print(df.iloc[i])\n",
    "    i += 1"
   ]
  },
  {
   "cell_type": "code",
   "execution_count": 4,
   "metadata": {},
   "outputs": [],
   "source": [
    "# Adicionando uma coluna no dataframe com informações sobre o covid\n",
    "import pandas as pd\n",
    "\n",
    "data = {\n",
    "'Nome': ['Alice', 'Bob', 'Charlie', 'Ana', 'Alice', 'Bob'],\n",
    "'Idade': [25, 30, 22, 22, 38, 35],\n",
    "'País': ['Brasil', 'Inglaterra', 'Estados Unidos', 'Itália', 'Austrália', 'México'],\n",
    "}\n",
    "\n",
    "df = pd.DataFrame(data)\n",
    "\n",
    "indice = 0\n",
    "covid = []\n",
    "\n",
    "while indice < len(df):\n",
    "    pais = df['País'][indice]\n",
    "    if pais == 'Brasil' or pais == 'Itália':\n",
    "        covid.append('Positivo')\n",
    "    else:\n",
    "        covid.append('Negativo')\n",
    "    indice +=1\n",
    "df['Covid'] = covid\n",
    "\n",
    "indice = 0\n",
    "vacina = []\n",
    "\n",
    "while indice < len(df):\n",
    "    vacinação = df['Covid'][indice]\n",
    "    if vacinação == 'Positivo':\n",
    "        vacina.append('Descansar')\n",
    "    else:\n",
    "        vacina.append('Pode se vacinar')\n",
    "    indice +=1\n",
    "df['Vacina'] = vacina\n",
    "indice = 0\n",
    "prioridade = []\n",
    "\n",
    "# adicione uma coluna onde mostre que pacientes que possuem prioridade na vacinação se puderem se vacinar e se a sua idade for maior que 35      \n",
    "\n",
    "\n",
    "     "
   ]
  },
  {
   "cell_type": "code",
   "execution_count": null,
   "metadata": {},
   "outputs": [],
   "source": []
  },
  {
   "cell_type": "code",
   "execution_count": 18,
   "metadata": {},
   "outputs": [
    {
     "ename": "AttributeError",
     "evalue": "'dict' object has no attribute 'append'",
     "output_type": "error",
     "traceback": [
      "\u001b[1;31m---------------------------------------------------------------------------\u001b[0m",
      "\u001b[1;31mAttributeError\u001b[0m                            Traceback (most recent call last)",
      "Cell \u001b[1;32mIn[18], line 10\u001b[0m\n\u001b[0;32m      8\u001b[0m     get_comida \u001b[39m=\u001b[39m \u001b[39mstr\u001b[39m(\u001b[39minput\u001b[39m(\u001b[39m'\u001b[39m\u001b[39mQual a comida favorita?\u001b[39m\u001b[39m'\u001b[39m))\n\u001b[0;32m      9\u001b[0m     comida\u001b[39m.\u001b[39mappend(get_comida)\n\u001b[1;32m---> 10\u001b[0m data\u001b[39m.\u001b[39;49mappend(comida)    \n\u001b[0;32m     11\u001b[0m df \u001b[39m=\u001b[39m pd\u001b[39m.\u001b[39mDataFrame(data)\n\u001b[0;32m     12\u001b[0m df\n",
      "\u001b[1;31mAttributeError\u001b[0m: 'dict' object has no attribute 'append'"
     ]
    }
   ],
   "source": [
    "data = {\n",
    "    'Nome': ['Alice','Bruno','Carlos','Danilo','Esther','Fabrício'],\n",
    "    'Idade': ['21','24','29','38','18','27'],\n",
    "    'Jogo': ['Xadrez','Damas','Gamão','Shogi','Go','Tetris']\n",
    "}\n",
    "comida = []\n",
    "for i in range(6):\n",
    "    get_comida = str(input('Qual a comida favorita?'))\n",
    "    comida.append(get_comida)\n",
    "data.(comida)    \n",
    "df = pd.DataFrame(data)\n",
    "df"
   ]
  },
  {
   "cell_type": "code",
   "execution_count": null,
   "metadata": {},
   "outputs": [],
   "source": [
    "# Preparação dos dados para treinar um modelo\n",
    "x = df['var1','var2','var3']\n",
    "y = df['output']\n",
    "\n",
    "xtreino,xteste,ytreino,yteste = train_test_split(x,y, test_size = 0.3)"
   ]
  },
  {
   "cell_type": "code",
   "execution_count": null,
   "metadata": {},
   "outputs": [],
   "source": [
    "jdata = {\n",
    "    'Nome': []\n",
    "}"
   ]
  }
 ],
 "metadata": {
  "kernelspec": {
   "display_name": "Python 3",
   "language": "python",
   "name": "python3"
  },
  "language_info": {
   "codemirror_mode": {
    "name": "ipython",
    "version": 3
   },
   "file_extension": ".py",
   "mimetype": "text/x-python",
   "name": "python",
   "nbconvert_exporter": "python",
   "pygments_lexer": "ipython3",
   "version": "3.11.4"
  },
  "orig_nbformat": 4
 },
 "nbformat": 4,
 "nbformat_minor": 2
}
