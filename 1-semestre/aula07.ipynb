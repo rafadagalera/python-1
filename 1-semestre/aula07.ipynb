{
 "cells": [
  {
   "cell_type": "code",
   "execution_count": 13,
   "metadata": {},
   "outputs": [
    {
     "name": "stdout",
     "output_type": "stream",
     "text": [
      "1 3\n",
      "3 3\n",
      "9 3\n"
     ]
    }
   ],
   "source": [
    "lista1 = [1, 3, 9]\n",
    "lista2 = [2, 5, 3]\n",
    "\n",
    "for x in lista1:\n",
    "    for y in lista2:\n",
    "     if x == y:\n",
    "        continue\n",
    "    print(f'{x} {y}')"
   ]
  },
  {
   "cell_type": "code",
   "execution_count": 11,
   "metadata": {},
   "outputs": [],
   "source": [
    "del lista2"
   ]
  },
  {
   "cell_type": "code",
   "execution_count": 15,
   "metadata": {},
   "outputs": [
    {
     "name": "stdout",
     "output_type": "stream",
     "text": [
      "1\n",
      "2\n",
      "3\n",
      "4\n",
      "5\n",
      "6\n",
      "7\n",
      "8\n",
      "9\n",
      "2\n",
      "4\n",
      "6\n",
      "8\n",
      "10\n",
      "12\n",
      "14\n",
      "16\n",
      "18\n",
      "3\n",
      "6\n",
      "9\n",
      "12\n",
      "15\n",
      "18\n",
      "21\n",
      "24\n",
      "27\n",
      "4\n",
      "8\n",
      "12\n",
      "16\n",
      "20\n",
      "24\n",
      "28\n",
      "32\n",
      "36\n",
      "5\n",
      "10\n",
      "15\n",
      "20\n",
      "25\n",
      "30\n",
      "35\n",
      "40\n",
      "45\n",
      "6\n",
      "12\n",
      "18\n",
      "24\n",
      "30\n",
      "36\n",
      "42\n",
      "48\n",
      "54\n",
      "7\n",
      "14\n",
      "21\n",
      "28\n",
      "35\n",
      "42\n",
      "49\n",
      "56\n",
      "63\n",
      "8\n",
      "16\n",
      "24\n",
      "32\n",
      "40\n",
      "48\n",
      "56\n",
      "64\n",
      "72\n",
      "9\n",
      "18\n",
      "27\n",
      "36\n",
      "45\n",
      "54\n",
      "63\n",
      "72\n",
      "81\n"
     ]
    }
   ],
   "source": [
    "for x in range(1,10):\n",
    "    for y in range(1,10):\n",
    "        print(x*y)"
   ]
  },
  {
   "cell_type": "code",
   "execution_count": 16,
   "metadata": {},
   "outputs": [
    {
     "name": "stdout",
     "output_type": "stream",
     "text": [
      "2\n",
      "3\n",
      "6\n"
     ]
    }
   ],
   "source": [
    "for i  in range(2,4):\n",
    "    for j in range(1,11):\n",
    "        if i == j:\n",
    "            break\n",
    "        print(j*i)"
   ]
  },
  {
   "cell_type": "code",
   "execution_count": 17,
   "metadata": {},
   "outputs": [
    {
     "name": "stdout",
     "output_type": "stream",
     "text": [
      "2\n",
      "6\n",
      "8\n",
      "10\n",
      "12\n",
      "14\n",
      "16\n",
      "18\n",
      "20\n",
      "3\n",
      "6\n",
      "12\n",
      "15\n",
      "18\n",
      "21\n",
      "24\n",
      "27\n",
      "30\n"
     ]
    }
   ],
   "source": [
    "for i in range(2,4):\n",
    "    for j in range(1,11):\n",
    "        if i == j:\n",
    "            continue\n",
    "        print(j*i)"
   ]
  },
  {
   "cell_type": "code",
   "execution_count": 18,
   "metadata": {},
   "outputs": [
    {
     "name": "stdout",
     "output_type": "stream",
     "text": [
      "10\n",
      "20\n"
     ]
    }
   ],
   "source": [
    "numeros = [10, 11, 15, 18, 20]\n",
    "\n",
    "min = min(numeros)\n",
    "print(min)\n",
    "\n",
    "max = max(numeros)\n",
    "print(max)"
   ]
  },
  {
   "cell_type": "code",
   "execution_count": 20,
   "metadata": {},
   "outputs": [
    {
     "name": "stdout",
     "output_type": "stream",
     "text": [
      "14.8\n",
      "15\n"
     ]
    }
   ],
   "source": [
    "import statistics\n",
    "\n",
    "numeros = [10, 11, 15, 18, 20]\n",
    "\n",
    "media = statistics.mean(numeros)\n",
    "print(media)\n",
    "mediana = statistics.median(numeros)\n",
    "print(mediana)\n"
   ]
  },
  {
   "cell_type": "code",
   "execution_count": 22,
   "metadata": {},
   "outputs": [
    {
     "data": {
      "text/plain": [
       "' m'"
      ]
     },
     "execution_count": 22,
     "metadata": {},
     "output_type": "execute_result"
    }
   ],
   "source": [
    "frase = ' micael gosta de sorvete'\n",
    "frase [0: 2]"
   ]
  },
  {
   "cell_type": "code",
   "execution_count": 23,
   "metadata": {},
   "outputs": [
    {
     "name": "stdout",
     "output_type": "stream",
     "text": [
      "1\n",
      "3\n",
      "5\n"
     ]
    }
   ],
   "source": [
    "for i in range(1,6,2):\n",
    "    print(i)"
   ]
  },
  {
   "cell_type": "code",
   "execution_count": 25,
   "metadata": {},
   "outputs": [
    {
     "name": "stdout",
     "output_type": "stream",
     "text": [
      "33\n"
     ]
    }
   ],
   "source": [
    "numeros = [1, 2, 3, 3, 3, 3, 3 ,3 ,3, 3, 3, 3]\n",
    "\n",
    "soma = sum(numeros)\n",
    "print(soma)"
   ]
  },
  {
   "cell_type": "code",
   "execution_count": null,
   "metadata": {},
   "outputs": [],
   "source": [
    "numeros[0] + numeros[4] + numeros[2]"
   ]
  },
  {
   "cell_type": "code",
   "execution_count": 27,
   "metadata": {},
   "outputs": [
    {
     "name": "stdout",
     "output_type": "stream",
     "text": [
      "-54\n",
      "74\n"
     ]
    }
   ],
   "source": [
    "import functools, operator\n",
    "\n",
    "numeros = [10, 11, 15, 18, 20]\n",
    "\n",
    "[-1, 15, 18, 20]\n",
    "[-16, 18, 20]\n",
    "\n",
    "resultado1 = functools.reduce(operator.sub, numeros)\n",
    "resultado2 = functools.reduce(operator.add, numeros)\n",
    "print(resultado1)\n",
    "print(resultado2)"
   ]
  },
  {
   "cell_type": "code",
   "execution_count": 28,
   "metadata": {},
   "outputs": [
    {
     "name": "stdout",
     "output_type": "stream",
     "text": [
      "a1\n",
      "a2\n",
      "a3\n",
      "b1\n",
      "b2\n",
      "b3\n",
      "c1\n",
      "c2\n",
      "c3\n"
     ]
    }
   ],
   "source": [
    "for letra in 'abc':\n",
    "    for numero in '123':\n",
    "        print(letra + numero)"
   ]
  },
  {
   "cell_type": "code",
   "execution_count": 29,
   "metadata": {},
   "outputs": [
    {
     "name": "stdout",
     "output_type": "stream",
     "text": [
      "1\n",
      "4\n",
      "8\n"
     ]
    }
   ],
   "source": [
    "soma = 0\n",
    "for x in [1, 2, 3, 4]:\n",
    "    if x == 2:\n",
    "        continue\n",
    "    soma += x\n",
    "    print(soma)"
   ]
  },
  {
   "cell_type": "code",
   "execution_count": 39,
   "metadata": {},
   "outputs": [
    {
     "name": "stdout",
     "output_type": "stream",
     "text": [
      "a tem 0.3 e 2.25\n",
      "b tem 0.2 e 1.60\n",
      "c tem 0.2 e 1.30\n",
      "d tem 0.3 e 2.70\n"
     ]
    }
   ],
   "source": [
    "notas = [7.5, 8, 6.5, 9]\n",
    "peso = [0.3, 0.2, 0.2, 0.3]\n",
    "aluno = ['a', 'b', 'c', 'd']\n",
    "\n",
    "for notas, peso, aluno in zip(notas, peso, aluno):\n",
    "    print(f'{aluno} tem {peso} e {notas * peso:.2f}')"
   ]
  },
  {
   "cell_type": "code",
   "execution_count": 37,
   "metadata": {},
   "outputs": [
    {
     "ename": "IndentationError",
     "evalue": "expected an indented block after 'for' statement on line 2 (2503751387.py, line 3)",
     "output_type": "error",
     "traceback": [
      "\u001b[1;36m  Cell \u001b[1;32mIn[37], line 3\u001b[1;36m\u001b[0m\n\u001b[1;33m    print(i * 2)\u001b[0m\n\u001b[1;37m    ^\u001b[0m\n\u001b[1;31mIndentationError\u001b[0m\u001b[1;31m:\u001b[0m expected an indented block after 'for' statement on line 2\n"
     ]
    }
   ],
   "source": [
    "for i in notas:\n",
    "    for j in peso:\n",
    "    print(i * 2)\n",
    "\n",
    "# aqui nesse caso ele vai percorrer o primeiro com todos do segundo \n",
    "# o segundo numero com todos os valores da segunda lista assim sucesivamente. \n"
   ]
  },
  {
   "cell_type": "code",
   "execution_count": 61,
   "metadata": {},
   "outputs": [
    {
     "name": "stdout",
     "output_type": "stream",
     "text": [
      "1\n"
     ]
    }
   ],
   "source": [
    "import secrets\n",
    "\n",
    "letras = str(input('digite suas letras: '))\n",
    "numeros = str(input('digite seus numeros: '))\n",
    "\n",
    "variavel = letras + numeros\n",
    "\n",
    "for j in range(100):\n",
    "    mic = secrets.choice(numeros)\n",
    "\n",
    "print(mic)\n",
    "\n",
    "\n"
   ]
  },
  {
   "cell_type": "code",
   "execution_count": 53,
   "metadata": {},
   "outputs": [
    {
     "ename": "AttributeError",
     "evalue": "'str' object has no attribute 'info'",
     "output_type": "error",
     "traceback": [
      "\u001b[1;31m---------------------------------------------------------------------------\u001b[0m",
      "\u001b[1;31mAttributeError\u001b[0m                            Traceback (most recent call last)",
      "Cell \u001b[1;32mIn[53], line 1\u001b[0m\n\u001b[1;32m----> 1\u001b[0m mic\u001b[39m.\u001b[39;49minfo()\n",
      "\u001b[1;31mAttributeError\u001b[0m: 'str' object has no attribute 'info'"
     ]
    }
   ],
   "source": [
    "mic.info()"
   ]
  },
  {
   "cell_type": "code",
   "execution_count": 58,
   "metadata": {},
   "outputs": [
    {
     "name": "stdout",
     "output_type": "stream",
     "text": [
      "mic159\n"
     ]
    }
   ],
   "source": [
    "letras = str(input('digite suas letras: '))\n",
    "numeros = str(input('digite seus numeros: '))\n",
    "\n",
    "variavel = letras + numeros\n",
    "print(variavel)"
   ]
  }
 ],
 "metadata": {
  "kernelspec": {
   "display_name": "Python 3",
   "language": "python",
   "name": "python3"
  },
  "language_info": {
   "codemirror_mode": {
    "name": "ipython",
    "version": 3
   },
   "file_extension": ".py",
   "mimetype": "text/x-python",
   "name": "python",
   "nbconvert_exporter": "python",
   "pygments_lexer": "ipython3",
   "version": "3.11.4"
  },
  "orig_nbformat": 4
 },
 "nbformat": 4,
 "nbformat_minor": 2
}
