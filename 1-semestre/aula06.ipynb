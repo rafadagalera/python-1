{
 "cells": [
  {
   "cell_type": "code",
   "execution_count": 1,
   "metadata": {},
   "outputs": [
    {
     "name": "stdout",
     "output_type": "stream",
     "text": [
      "[1, 2, 3, 4, 5, 6]\n"
     ]
    }
   ],
   "source": [
    "#Exemplo 1\n",
    "\n",
    "lista1 = [1,2,3]\n",
    "lista2 = [4,5,6]\n",
    "\n",
    "soma = lista1 + lista2\n",
    "\n",
    "print(soma)"
   ]
  },
  {
   "cell_type": "code",
   "execution_count": 3,
   "metadata": {},
   "outputs": [
    {
     "name": "stdout",
     "output_type": "stream",
     "text": [
      "[5, 7, 9]\n"
     ]
    }
   ],
   "source": [
    "#Exemplo 2\n",
    "\n",
    "lista1 = [1,2,3]\n",
    "lista2 = [4,5,6]\n",
    "\n",
    "combine = [a + b for a, b in zip(lista1,lista2)]\n",
    "print(combine)"
   ]
  },
  {
   "cell_type": "code",
   "execution_count": 6,
   "metadata": {},
   "outputs": [
    {
     "name": "stdout",
     "output_type": "stream",
     "text": [
      "{('Volvo', 180), ('Mitsubishi', 120), ('Honda', 134), ('BMW', 300)}\n"
     ]
    }
   ],
   "source": [
    "# Exemplo 3\n",
    "\n",
    "carro = ['Mitsubishi', 'Honda', 'Volvo', 'BMW']\n",
    "potencia =  [120, 134, 180, 300]\n",
    "\n",
    "combine = set(zip(carro,potencia))\n",
    "print(combine)"
   ]
  },
  {
   "cell_type": "code",
   "execution_count": 19,
   "metadata": {},
   "outputs": [
    {
     "name": "stdout",
     "output_type": "stream",
     "text": [
      "0 Messi [100, 88, 99, 90]\n",
      "1 Kane [100, 88, 99, 90]\n",
      "2 Ronaldo [100, 88, 99, 90]\n",
      "3 Neymar [100, 88, 99, 90]\n"
     ]
    }
   ],
   "source": [
    "# Exemplo 4\n",
    "\n",
    "nomes = ['Messi', 'Kane', 'Ronaldo', 'Neymar']\n",
    "score = [100, 88, 99, 90]\n",
    "\n",
    "for i, (nome, idade) in enumerate(zip(nomes,score)):\n",
    "    print(i, nome, score)"
   ]
  },
  {
   "cell_type": "code",
   "execution_count": 17,
   "metadata": {},
   "outputs": [
    {
     "name": "stdout",
     "output_type": "stream",
     "text": [
      "[(1, 'a', 'chocolate'), (2, 'b', 'baunilha'), (3, 'c', 'morango')]\n"
     ]
    }
   ],
   "source": [
    "# Exemplo 5\n",
    "\n",
    "lista1 = [1,2,3]\n",
    "lista2= ['a','b','c']\n",
    "lista3 = ['chocolate','baunilha','morango']\n",
    "\n",
    "combine = list(zip(lista1,lista2,lista3))\n",
    "print(combine)\n"
   ]
  },
  {
   "cell_type": "code",
   "execution_count": 27,
   "metadata": {},
   "outputs": [
    {
     "name": "stdout",
     "output_type": "stream",
     "text": [
      "[(2, 'b'), (4, 'd')]\n"
     ]
    }
   ],
   "source": [
    "# Exemplo 6\n",
    "lista1 = [1,2,3,4,5]\n",
    "lista2= ['a','b','c','d','e']\n",
    "\n",
    "combine = [(a,b) for a, b in zip(lista1,lista2) if a%2 == 0]\n",
    "print(combine)"
   ]
  },
  {
   "cell_type": "code",
   "execution_count": 32,
   "metadata": {},
   "outputs": [
    {
     "name": "stdout",
     "output_type": "stream",
     "text": [
      "[8, 12, 0] [9, 7, 13, 21, 25]\n"
     ]
    }
   ],
   "source": [
    "# Exemplo 7\n",
    "lista1 = [9,8,7,12,0,13,21,25]\n",
    "pares = []\n",
    "impares = []\n",
    "\n",
    "for i in lista1:\n",
    "    if i%2 == 0:\n",
    "        pares.append(i)\n",
    "    else:\n",
    "        impares.append(i) \n",
    "print(pares, impares)        "
   ]
  },
  {
   "cell_type": "code",
   "execution_count": 47,
   "metadata": {},
   "outputs": [
    {
     "name": "stdout",
     "output_type": "stream",
     "text": [
      "[(1, 10), (2, 20), (3, 30), (4, 100), (5, 100)]\n"
     ]
    }
   ],
   "source": [
    "# Exemplo 8\n",
    "\n",
    "lista1 = [1,2,3,4,5]\n",
    "lista2 = [10,20,30]\n",
    "\n",
    "from itertools import zip_longest\n",
    "\n",
    "combine = list(zip_longest(lista1,lista2, fillvalue=100))\n",
    "print(combine)"
   ]
  },
  {
   "cell_type": "code",
   "execution_count": null,
   "metadata": {},
   "outputs": [],
   "source": [
    "# Exemplo 9\n",
    "\n",
    "preço = [2.50, 1.20, 3, 2, 4.50]\n",
    "quantidades = [10,5,2,3,6]\n",
    "frutas = ['banana','laranja','uva','maçã','pera']\n",
    "\n",
    "combine = "
   ]
  },
  {
   "cell_type": "code",
   "execution_count": null,
   "metadata": {},
   "outputs": [],
   "source": [
    "# Exercicio 1\n",
    "# Crie um algortmo que mostre os pacientes diabéticos utilizando zip\n",
    "\n",
    "pacientes = ['João', 'Maria', 'Pedro', 'Ana']\n",
    "idades = [45,60,30,50]\n",
    "condição = ['Diabetes','Hipertensão','Diabetes','Asma']\n",
    "\n",
    "combine = [(a,b,c) for a,b,c in zip(pacientes,idades,condição) if c == 'Diabetes']\n",
    "print(combine)\n",
    "\n"
   ]
  },
  {
   "cell_type": "code",
   "execution_count": null,
   "metadata": {},
   "outputs": [],
   "source": []
  }
 ],
 "metadata": {
  "kernelspec": {
   "display_name": "Python 3",
   "language": "python",
   "name": "python3"
  },
  "language_info": {
   "codemirror_mode": {
    "name": "ipython",
    "version": 3
   },
   "file_extension": ".py",
   "mimetype": "text/x-python",
   "name": "python",
   "nbconvert_exporter": "python",
   "pygments_lexer": "ipython3",
   "version": "3.11.4"
  },
  "orig_nbformat": 4
 },
 "nbformat": 4,
 "nbformat_minor": 2
}
