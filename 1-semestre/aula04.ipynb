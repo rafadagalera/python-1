{
 "cells": [
  {
   "cell_type": "code",
   "execution_count": 4,
   "metadata": {},
   "outputs": [
    {
     "name": "stdout",
     "output_type": "stream",
     "text": [
      "Você foi multado por ultrapassar o limite de velocidade. O valor da multa é de R$100.00\n"
     ]
    }
   ],
   "source": [
    "# Escreva um programa que peça a velocidade do carro do usuário, e caso a velocidade exceda 80km/h o notifique de uma multa de 5 * o valor excedente\n",
    "vel = int(input(\"Qual a velocidade do carro?\"))\n",
    "if vel > 80:\n",
    "    multa = (vel - 80) * 5\n",
    "    print(\"Você foi multado por ultrapassar o limite de velocidade. O valor da multa é de R$%.2f\" %(multa))\n",
    "else:\n",
    "    print('Tenha um bom dia e dirija com segurança!')"
   ]
  },
  {
   "cell_type": "code",
   "execution_count": 33,
   "metadata": {},
   "outputs": [
    {
     "name": "stdout",
     "output_type": "stream",
     "text": [
      "Dia de receber pagamento\n"
     ]
    }
   ],
   "source": [
    "dia_semana = str(input(\"Insira o dia da semana\"))\n",
    "dia_mes = int(input(\"Insira o dia do mês\"))\n",
    "\n",
    "if dia_semana != \"sabado\" and dia_semana != \"domingo\" or dia_mes >= 1 and dia_mes <= 5:\n",
    "    print(\"Dia de receber pagamento\")\n",
    "else:\n",
    "    print(\"Você não receberá o pagamento\")    "
   ]
  },
  {
   "cell_type": "code",
   "execution_count": 13,
   "metadata": {},
   "outputs": [
    {
     "name": "stdout",
     "output_type": "stream",
     "text": [
      "Insira formas geométricas válidas\n"
     ]
    }
   ],
   "source": [
    "# Escreva um algoritmo para calcula a área de um retângulo, quadrado e círculo:\n",
    "# O usuário deve escolher qual objeto será utilizado no cálculo e para cada escolha as informações do cálculo deveram ser fornecidas\n",
    "\n",
    "calculo = str(input(\"Insira a forma geométrica cuja área você deseja calcular (quadrado/circulo/retangulo):\"))\n",
    "if calculo == \"retangulo\":\n",
    "    base_r = float(input(\"Insira o valor da base do seu retângulo:\"))\n",
    "    altura_r = float(input(\"Insira o valor da altura do seu retângulo:\"))\n",
    "    area_ret = base_r * altura_r\n",
    "    print(\"A área do retângulo será calculada multiplicando sua base e altura, resultando em %.2f\"%(area_ret))\n",
    "if calculo == \"quadrado\":\n",
    "    base_q=float(input('Digite o tamanho da sua base'))\n",
    "    area_q=(base_q**2)\n",
    "    print(\"A área do quadrado será calculada multiplicando sua base por ela mesma, resultando em %.2f\"%(area_q))\n",
    "if calculo == \"circulo\":\n",
    "    raio=float(input ('Informe o raio do circulo em metros '))\n",
    "    area_c=3.14*raio*(raio)**2\n",
    "    print(\"A área do círculo será calculada multiplicando seu raio ao quadrado por pi, resultando em %.2f\"%(area_c))\n",
    "else:\n",
    "    print(\"Insira formas geométricas válidas\")    "
   ]
  },
  {
   "cell_type": "code",
   "execution_count": 26,
   "metadata": {},
   "outputs": [
    {
     "name": "stdout",
     "output_type": "stream",
     "text": [
      "A letra e não esta na palavra avião!\n"
     ]
    }
   ],
   "source": [
    "# Verificando se uma letra está contida em uma palavra\n",
    "letra = str(input(\"Insira uma letra\"))\n",
    "palavra = str(input(\"Insira uma palavra\"))\n",
    "\n",
    "if letra in palavra:\n",
    "    print(\"A letra %s está contida na palavra %s!\"%(letra, palavra))\n",
    "else:\n",
    "    print(\"A letra %s não está contida na palavra %s!\"%(letra, palavra))"
   ]
  },
  {
   "cell_type": "code",
   "execution_count": 28,
   "metadata": {},
   "outputs": [
    {
     "name": "stdout",
     "output_type": "stream",
     "text": [
      "O carro desejado não está na lista\n"
     ]
    }
   ],
   "source": [
    "lista_carro = [\"volksvagem\", \"chevrolet\", \"fiat\"]\n",
    "\n",
    "carro_desejado = str(input(\"Digite o carro desejado\"))\n",
    "\n",
    "if carro_desejado not in lista_carro:\n",
    "    print(\"O carro desejado não está na lista\")\n",
    "else:\n",
    "    print(\"Seu carro é\", carro_desejado)    "
   ]
  },
  {
   "cell_type": "code",
   "execution_count": 40,
   "metadata": {},
   "outputs": [
    {
     "name": "stdout",
     "output_type": "stream",
     "text": [
      "O seu número secreto é 90\n"
     ]
    }
   ],
   "source": [
    "# Separando condiçôes por identação\n",
    "\n",
    "num1 = int(input(\"Digite o primeiro número\"))\n",
    "num2 = int(input(\"Digite o segundo número\"))\n",
    "\n",
    "if num1 >= 0 and num1 <= 10:\n",
    "    if num2 >= 0 and num2 <= 10:\n",
    "        print(f\"O seu número secreto é {num1 * num2}\")\n",
    "    else:\n",
    "        print(\"O segundo número está incorreto\")\n",
    "elif (num1 < 0 or num1 > 10) and (num2 < 0 or num2 > 10):\n",
    "        print(\"Ambos os números estão errados\")        \n",
    "else:\n",
    "        print(\"O primeiro número está incorreto\")            "
   ]
  },
  {
   "cell_type": "code",
   "execution_count": 54,
   "metadata": {},
   "outputs": [
    {
     "name": "stdout",
     "output_type": "stream",
     "text": [
      "Você pode votar!\n"
     ]
    }
   ],
   "source": [
    "# Crie um algoritmo para vericar a eligibilidade do usuário baseado em sua idade e seu RG\n",
    "\n",
    "idade = int(input(\"Qual a sua idade?\"))\n",
    "rg = str(input(\"Qual o seu RG?\"))\n",
    "\n",
    "if len(rg) == 9:\n",
    "    if idade >= 16:\n",
    "        print(\"Você pode votar!\")\n",
    "    else:\n",
    "        print(\"Você não tem idade para votar!\")\n",
    "elif idade <= 18 and len(rg) != 9:\n",
    "        print(\"Você não tem idade para votar e seu RG é inválido!\")     \n",
    "else:            \n",
    "        print(\"Insira um RG válido\")\n"
   ]
  },
  {
   "cell_type": "code",
   "execution_count": 55,
   "metadata": {},
   "outputs": [
    {
     "name": "stdout",
     "output_type": "stream",
     "text": [
      "Adicione pepperoni.\n",
      "Adicione queijo.\n",
      "Adicione tomate.\n",
      "Adicione cebola.\n",
      "Sua pizza está pronta\n"
     ]
    }
   ],
   "source": [
    "# Utilizando o método for para imprimir valores de uma lista em sequência\n",
    "coberturas = ['pepperoni', 'queijo', 'tomate', 'cebola']\n",
    "\n",
    "for cobertura in coberturas:\n",
    "    print(f\"Adicione {cobertura}.\")\n",
    "print(\"Sua pizza está pronta\")    "
   ]
  },
  {
   "cell_type": "code",
   "execution_count": 63,
   "metadata": {},
   "outputs": [
    {
     "name": "stdout",
     "output_type": "stream",
     "text": [
      "maçã\n",
      "morango\n"
     ]
    }
   ],
   "source": [
    "# Métodos continue e break\n",
    "frutas = ['maçã', 'banana', 'morango']\n",
    "for fruta in frutas:\n",
    "    if fruta == 'banana':\n",
    "        continue\n",
    "    print(fruta)"
   ]
  },
  {
   "cell_type": "code",
   "execution_count": 64,
   "metadata": {},
   "outputs": [
    {
     "name": "stdout",
     "output_type": "stream",
     "text": [
      "maçã\n"
     ]
    }
   ],
   "source": [
    "# continue: pula um item da lista   break: para antes de um determinado item da lista\n",
    "frutas = ['maçã', 'banana', 'morango']\n",
    "for fruta in frutas:\n",
    "    if fruta == 'banana':\n",
    "        break\n",
    "    print(fruta)"
   ]
  }
 ],
 "metadata": {
  "kernelspec": {
   "display_name": "Python 3",
   "language": "python",
   "name": "python3"
  },
  "language_info": {
   "codemirror_mode": {
    "name": "ipython",
    "version": 3
   },
   "file_extension": ".py",
   "mimetype": "text/x-python",
   "name": "python",
   "nbconvert_exporter": "python",
   "pygments_lexer": "ipython3",
   "version": "3.11.4"
  },
  "orig_nbformat": 4
 },
 "nbformat": 4,
 "nbformat_minor": 2
}
