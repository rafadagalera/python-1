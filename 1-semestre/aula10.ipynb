{
 "cells": [
  {
   "cell_type": "code",
   "execution_count": null,
   "metadata": {},
   "outputs": [],
   "source": [
    "pip install numpy"
   ]
  },
  {
   "cell_type": "code",
   "execution_count": 3,
   "metadata": {},
   "outputs": [],
   "source": [
    "import numpy as np"
   ]
  },
  {
   "cell_type": "code",
   "execution_count": null,
   "metadata": {},
   "outputs": [],
   "source": [
    "def func (par1):\n",
    "    return par1 + 1\n",
    "print(func(1))\n",
    "print(func(2))\n",
    "print(func(3))\n"
   ]
  },
  {
   "cell_type": "code",
   "execution_count": null,
   "metadata": {},
   "outputs": [],
   "source": [
    "def quadra(x):\n",
    "    return x**2 + 2*x - 10\n",
    "quadra(10)"
   ]
  },
  {
   "cell_type": "code",
   "execution_count": null,
   "metadata": {},
   "outputs": [],
   "source": [
    "def mult(x,y):\n",
    "    return x * y\n",
    "mult(2,2)"
   ]
  },
  {
   "cell_type": "code",
   "execution_count": null,
   "metadata": {},
   "outputs": [],
   "source": [
    "def stringtest(A,B):\n",
    "    return A + \" \" + B\n",
    "stringtest(\"teste\",\"1\")"
   ]
  },
  {
   "cell_type": "code",
   "execution_count": null,
   "metadata": {},
   "outputs": [],
   "source": [
    "def series(*x):\n",
    "    return \"Minha série favorita é: \" + x[0]\n",
    "series(\"BCS\", \"BB\",\"B99\")"
   ]
  },
  {
   "cell_type": "code",
   "execution_count": null,
   "metadata": {},
   "outputs": [],
   "source": [
    "# Criando uma função para área de um quadrado\n",
    "\n",
    "def area_do_quadrado(lado):\n",
    "    area = lado**2\n",
    "    return area\n",
    "lado = float(input(\"Insira o valor do lado do quadrado\"))\n",
    "\n",
    "area_do_quadrado(lado)"
   ]
  },
  {
   "cell_type": "code",
   "execution_count": null,
   "metadata": {},
   "outputs": [],
   "source": [
    "# Função para retornar a palavra par ou ímpar\n",
    "\n",
    "def par(x):\n",
    "    return x % 2 == 0\n",
    "x = int(input(\"Digite um número\"))\n",
    "\n",
    "if par(x) is True:\n",
    "    print(\"É par!\")\n",
    "else:\n",
    "    print(\"É ímpar!\")\n",
    "del x        "
   ]
  },
  {
   "cell_type": "code",
   "execution_count": null,
   "metadata": {},
   "outputs": [],
   "source": [
    "# Como foi resolvido na aula\n",
    "def par(x):\n",
    "    return x % 2 == 0\n",
    "\n",
    "def par_ou_impar(x):\n",
    "    if par(x):\n",
    "        return \"par\"\n",
    "    else:\n",
    "        return \"ímpar\"\n",
    "print(par_ou_impar(2))\n",
    "print(par_ou_impar(3))\n",
    "print(par_ou_impar(9))        "
   ]
  },
  {
   "cell_type": "code",
   "execution_count": null,
   "metadata": {},
   "outputs": [],
   "source": [
    "# Função soma com parâmetros obrigatórios e opcionais\n",
    "def soma(a,b, imprime=False):\n",
    "    s = a+b\n",
    "    if imprime:\n",
    "        print(s)\n",
    "    return s\n",
    "soma(5,8)    "
   ]
  },
  {
   "cell_type": "code",
   "execution_count": null,
   "metadata": {},
   "outputs": [],
   "source": [
    "# Função retângulo com parãmetros obrigatórios e opcionais\n",
    "def exibir_mensagem(mensagem,vezes=1):\n",
    "    for i in range(vezes):\n",
    "        print(mensagem)\n",
    "exibir_mensagem(\"DT\")\n",
    "exibir_mensagem(\"AT\",2)\n",
    "# Se dermos um segundo argumento com um int, a mensagem será imprimida \n",
    "# um número de vezes igual à esse int        "
   ]
  },
  {
   "cell_type": "code",
   "execution_count": null,
   "metadata": {},
   "outputs": [],
   "source": [
    "# Função que retorna True or False, dependendo se o número é par ou ímpar\n",
    "\n",
    "def pesquise(lista,valor):\n",
    "    for i, x in enumerate(lista):\n",
    "        if x == valor:\n",
    "            return i\n",
    "    return None\n",
    "    \n",
    "\n",
    "L = [10,20,25,30]\n",
    "\n",
    "print(pesquise(L,10))\n",
    "print(pesquise(L,25))\n",
    "print(pesquise(L,22))\n"
   ]
  },
  {
   "cell_type": "code",
   "execution_count": 95,
   "metadata": {},
   "outputs": [
    {
     "name": "stdout",
     "output_type": "stream",
     "text": [
      "21.25\n"
     ]
    }
   ],
   "source": [
    "# Calculando a média dos valores de uma lista\n",
    "L = [10,20,25,30]\n",
    "\n",
    "def soma(L):\n",
    "    total = 0\n",
    "    for i in L:\n",
    "        total += i\n",
    "    return total\n",
    "\n",
    "def media(L):\n",
    "    return soma(L)/ len(L)\n",
    "print(media(L))"
   ]
  },
  {
   "cell_type": "code",
   "execution_count": 96,
   "metadata": {},
   "outputs": [
    {
     "name": "stdout",
     "output_type": "stream",
     "text": [
      "30.0\n"
     ]
    }
   ],
   "source": [
    "# Calcular a média aritmética da seguinte lista\n",
    "\n",
    "valores = [10,15,20,25,30,35,40,45,50]\n",
    "def soma(valores):\n",
    "    total = 0\n",
    "    for i in valores:\n",
    "        total += i\n",
    "    return total\n",
    "\n",
    "def media(valores):\n",
    "    return soma(valores)/ len(valores)\n",
    "print(media(valores))"
   ]
  },
  {
   "cell_type": "code",
   "execution_count": 121,
   "metadata": {},
   "outputs": [
    {
     "name": "stdout",
     "output_type": "stream",
     "text": [
      "A força resultante em Newtons é de:  100.0\n"
     ]
    }
   ],
   "source": [
    "# Cria uma função para calcular a força em Newtons de acordo com os valores \n",
    "# de entrada da massa e aceleração inseridos pelo usuário\n",
    "\n",
    "def força(massa,aceleração):\n",
    "    força_resultante = massa * aceleração\n",
    "    return força_resultante\n",
    "massa = float(input(\"Insira sua massa\"))\n",
    "aceleração = float(input(\"Insira sua aceleração\"))\n",
    "força_resultante = força(massa,aceleração)\n",
    "print(\"A força resultante em Newtons é de: \",força_resultante )"
   ]
  },
  {
   "cell_type": "code",
   "execution_count": 113,
   "metadata": {},
   "outputs": [
    {
     "data": {
      "text/plain": [
       "10.0"
      ]
     },
     "execution_count": 113,
     "metadata": {},
     "output_type": "execute_result"
    }
   ],
   "source": [
    "# Crie uma função que receba a base e a altura de um triângulo e retorne\n",
    "# sua área (A = (base * altura) / 2) \n",
    "def triangle(base,altura):\n",
    "    area = (base * altura) / 2\n",
    "    return area\n",
    "base = float(input(\"Insira a base\"))\n",
    "altura = float(input(\"Insira a altura\"))\n",
    "area = triangle(base,altura)\n",
    "print(\"A área do triângulo em metros quadrados é de: \", area)"
   ]
  },
  {
   "cell_type": "code",
   "execution_count": 114,
   "metadata": {},
   "outputs": [
    {
     "data": {
      "text/plain": [
       "1000.0"
      ]
     },
     "execution_count": 114,
     "metadata": {},
     "output_type": "execute_result"
    }
   ],
   "source": [
    "# Crie uma função para calcular o volume de uma caixa com os valores de\n",
    "# largura, altura e comprimento fornecidos pelo usuário\n",
    "\n",
    "\n",
    "def box(largura,altura,comprimento):\n",
    "    volume = largura * altura * comprimento\n",
    "    return volume\n",
    "largura = float(input(\"Insira a largura\"))\n",
    "altura = float(input(\"Insira a altura\"))\n",
    "comprimento = float(input(\"Insira o comprimento\"))\n",
    "volume = box(largura,altura,comprimento)\n",
    "print(\"O volume da caixa em metros cúbicos é de: \", volume)"
   ]
  },
  {
   "cell_type": "code",
   "execution_count": 120,
   "metadata": {},
   "outputs": [
    {
     "name": "stdout",
     "output_type": "stream",
     "text": [
      "A área da sala em metros quadrados é de 100.0\n"
     ]
    }
   ],
   "source": [
    "# Crie uma função para calcular a área de uma sala. O usuário deve inserir\n",
    "# as dimensões em metros e calcular a área em metros^2\n",
    "\n",
    "def room(largura,comprimento):\n",
    "    area = largura * comprimento\n",
    "    return area\n",
    "largura = float(input(\"Insira a largura da sala em metros\"))\n",
    "comprimento = float(input(\"Insira o comprimento da sala em metros\")) \n",
    "area = room(largura,comprimento)\n",
    "print(\"A área da sala em metros quadrados é de: \", area)"
   ]
  },
  {
   "cell_type": "code",
   "execution_count": 130,
   "metadata": {},
   "outputs": [
    {
     "name": "stdout",
     "output_type": "stream",
     "text": [
      "Médias móveis com janela 3: [15.0, 20.0, 25.0, 30.0, 35.0, 40.0, 45.0]\n"
     ]
    }
   ],
   "source": [
    "# Calcular a média móvel da lista\n",
    "\n",
    "valores = [10,15,20,25,30,35,40,45,50]\n",
    "medias = []\n",
    "def MM(lista,janela):\n",
    "    for i in range(len(lista) - janela + 1):\n",
    "        sublista = lista[i:i+janela]\n",
    "        media = sum(sublista) / janela\n",
    "        medias.append(media)\n",
    "    return medias\n",
    "valores = [10,15,20,25,30,35,40,45,50]\n",
    "janela = 3\n",
    "medias = MM(valores,janela)\n",
    "print(f\"Médias móveis com janela {janela}: {medias}\")  \n",
    "        \n"
   ]
  },
  {
   "cell_type": "code",
   "execution_count": null,
   "metadata": {},
   "outputs": [],
   "source": [
    "# Calcular a média aritmética da seguinte lista\n",
    "\n",
    "valores = [10,15,20,25,30,35,40,45,50]\n",
    "def soma(valores):\n",
    "    total = 0\n",
    "    for i in valores:\n",
    "        total += i\n",
    "    return total\n",
    "\n",
    "def media(valores):\n",
    "    return soma(valores)/ len(valores)\n",
    "print(media(valores))"
   ]
  },
  {
   "cell_type": "code",
   "execution_count": null,
   "metadata": {},
   "outputs": [],
   "source": [
    "def nums(x):\n",
    "    return \"Os números são: \" , x\n",
    "x = input(\"Insira um número\")\n",
    "while x is int:\n",
    "    num_list.append(x)\n",
    "    x = input(\"Insira um número\")\n",
    "nums(num_list)    "
   ]
  }
 ],
 "metadata": {
  "kernelspec": {
   "display_name": "Python 3",
   "language": "python",
   "name": "python3"
  },
  "language_info": {
   "codemirror_mode": {
    "name": "ipython",
    "version": 3
   },
   "file_extension": ".py",
   "mimetype": "text/x-python",
   "name": "python",
   "nbconvert_exporter": "python",
   "pygments_lexer": "ipython3",
   "version": "3.11.4"
  },
  "orig_nbformat": 4
 },
 "nbformat": 4,
 "nbformat_minor": 2
}
