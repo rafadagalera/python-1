{
 "cells": [
  {
   "cell_type": "code",
   "execution_count": null,
   "metadata": {},
   "outputs": [],
   "source": [
    "pip install pandas"
   ]
  },
  {
   "cell_type": "code",
   "execution_count": null,
   "metadata": {},
   "outputs": [],
   "source": [
    "pip install numpy"
   ]
  },
  {
   "cell_type": "code",
   "execution_count": null,
   "metadata": {},
   "outputs": [],
   "source": [
    "pip install matplotlib"
   ]
  },
  {
   "cell_type": "code",
   "execution_count": null,
   "metadata": {},
   "outputs": [],
   "source": [
    "pip install seaborn"
   ]
  },
  {
   "cell_type": "code",
   "execution_count": 7,
   "metadata": {},
   "outputs": [],
   "source": [
    "import pandas as pd\n",
    "import numpy as np\n",
    "import matplotlib.pyplot as plt\n",
    "import seaborn as sns\n",
    "import os"
   ]
  },
  {
   "cell_type": "code",
   "execution_count": 10,
   "metadata": {},
   "outputs": [],
   "source": [
    "raw = pd.read_csv(\"premier.csv\")"
   ]
  },
  {
   "cell_type": "code",
   "execution_count": 11,
   "metadata": {},
   "outputs": [
    {
     "data": {
      "text/html": [
       "<div>\n",
       "<style scoped>\n",
       "    .dataframe tbody tr th:only-of-type {\n",
       "        vertical-align: middle;\n",
       "    }\n",
       "\n",
       "    .dataframe tbody tr th {\n",
       "        vertical-align: top;\n",
       "    }\n",
       "\n",
       "    .dataframe thead th {\n",
       "        text-align: right;\n",
       "    }\n",
       "</style>\n",
       "<table border=\"1\" class=\"dataframe\">\n",
       "  <thead>\n",
       "    <tr style=\"text-align: right;\">\n",
       "      <th></th>\n",
       "      <th>name</th>\n",
       "      <th>season</th>\n",
       "      <th>status</th>\n",
       "      <th>format</th>\n",
       "      <th>number_of_clubs</th>\n",
       "      <th>total_matches</th>\n",
       "      <th>matches_completed</th>\n",
       "      <th>game_week</th>\n",
       "      <th>total_game_week</th>\n",
       "      <th>progress</th>\n",
       "      <th>...</th>\n",
       "      <th>goals_min_61_to_70</th>\n",
       "      <th>goals_min_71_to_80</th>\n",
       "      <th>goals_min_81_to_90</th>\n",
       "      <th>goals_min_0_to_15</th>\n",
       "      <th>goals_min_16_to_30</th>\n",
       "      <th>goals_min_31_to_45</th>\n",
       "      <th>goals_min_46_to_60</th>\n",
       "      <th>goals_min_61_to_75</th>\n",
       "      <th>goals_min_76_to_90</th>\n",
       "      <th>xg_avg_per_match</th>\n",
       "    </tr>\n",
       "  </thead>\n",
       "  <tbody>\n",
       "    <tr>\n",
       "      <th>0</th>\n",
       "      <td>Premier League</td>\n",
       "      <td>2018/2019</td>\n",
       "      <td>Completed</td>\n",
       "      <td>NaN</td>\n",
       "      <td>20</td>\n",
       "      <td>380</td>\n",
       "      <td>380</td>\n",
       "      <td>38</td>\n",
       "      <td>38</td>\n",
       "      <td>100</td>\n",
       "      <td>...</td>\n",
       "      <td>133</td>\n",
       "      <td>119</td>\n",
       "      <td>186</td>\n",
       "      <td>134</td>\n",
       "      <td>172</td>\n",
       "      <td>170</td>\n",
       "      <td>158</td>\n",
       "      <td>185</td>\n",
       "      <td>253</td>\n",
       "      <td>2.8</td>\n",
       "    </tr>\n",
       "  </tbody>\n",
       "</table>\n",
       "<p>1 rows × 71 columns</p>\n",
       "</div>"
      ],
      "text/plain": [
       "             name     season     status  format  number_of_clubs  \\\n",
       "0  Premier League  2018/2019  Completed     NaN               20   \n",
       "\n",
       "   total_matches  matches_completed  game_week  total_game_week  progress  \\\n",
       "0            380                380         38               38       100   \n",
       "\n",
       "   ...  goals_min_61_to_70  goals_min_71_to_80  goals_min_81_to_90  \\\n",
       "0  ...                 133                 119                 186   \n",
       "\n",
       "   goals_min_0_to_15  goals_min_16_to_30  goals_min_31_to_45  \\\n",
       "0                134                 172                 170   \n",
       "\n",
       "   goals_min_46_to_60  goals_min_61_to_75  goals_min_76_to_90  \\\n",
       "0                 158                 185                 253   \n",
       "\n",
       "   xg_avg_per_match  \n",
       "0               2.8  \n",
       "\n",
       "[1 rows x 71 columns]"
      ]
     },
     "execution_count": 11,
     "metadata": {},
     "output_type": "execute_result"
    }
   ],
   "source": [
    "raw"
   ]
  },
  {
   "cell_type": "code",
   "execution_count": 21,
   "metadata": {},
   "outputs": [],
   "source": [
    "data = {\n",
    "    \"Número de clubes\": [],\n",
    "    \"Partidas Jogadas\": [],\n",
    "    \"Duração em semanas\": [],\n",
    "    \"Gols entre 0-15 minutos\": [],\n",
    "    \"Gols entre 16-30 minutos\": [],\n",
    "    \"Gols entre 31-45 minutos\": [],\n",
    "    \"Gols entre 46-60 minutos\": [],\n",
    "    \"Gols entre 61-70 minutos\": [],\n",
    "    \"Gols entre 71-80 minutos\": [],\n",
    "    \"Gols entre 81-90 minutos\": [],\n",
    "    \"Média de gols por partida\": []\n",
    "}\n",
    "\n"
   ]
  },
  {
   "cell_type": "code",
   "execution_count": 26,
   "metadata": {},
   "outputs": [],
   "source": [
    "data[\"Número de clubes\"].append(raw[\"number_of_clubs\"])"
   ]
  },
  {
   "cell_type": "code",
   "execution_count": null,
   "metadata": {},
   "outputs": [],
   "source": [
    "pd."
   ]
  },
  {
   "cell_type": "code",
   "execution_count": 29,
   "metadata": {},
   "outputs": [
    {
     "data": {
      "text/plain": [
       "[0    20\n",
       " Name: number_of_clubs, dtype: int64]"
      ]
     },
     "execution_count": 29,
     "metadata": {},
     "output_type": "execute_result"
    }
   ],
   "source": [
    "data[\"Número de clubes\"]"
   ]
  },
  {
   "cell_type": "code",
   "execution_count": 22,
   "metadata": {},
   "outputs": [
    {
     "data": {
      "text/plain": [
       "{'Número de clubes': [],\n",
       " 'Partidas Jogadas': [],\n",
       " 'Duração em semanas': [],\n",
       " 'Gols entre 0-15 minutos': [],\n",
       " 'Gols entre 16-30 minutos': [],\n",
       " 'Gols entre 31-45 minutos': [],\n",
       " 'Gols entre 46-60 minutos': [],\n",
       " 'Gols entre 61-70 minutos': [],\n",
       " 'Gols entre 71-80 minutos': [],\n",
       " 'Gols entre 81-90 minutos': [],\n",
       " 'Média de gols por partida': []}"
      ]
     },
     "execution_count": 22,
     "metadata": {},
     "output_type": "execute_result"
    }
   ],
   "source": [
    "data"
   ]
  }
 ],
 "metadata": {
  "kernelspec": {
   "display_name": "Python 3",
   "language": "python",
   "name": "python3"
  },
  "language_info": {
   "codemirror_mode": {
    "name": "ipython",
    "version": 3
   },
   "file_extension": ".py",
   "mimetype": "text/x-python",
   "name": "python",
   "nbconvert_exporter": "python",
   "pygments_lexer": "ipython3",
   "version": "3.11.4"
  },
  "orig_nbformat": 4
 },
 "nbformat": 4,
 "nbformat_minor": 2
}
