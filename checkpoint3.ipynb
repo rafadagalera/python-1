{
 "cells": [
  {
   "cell_type": "code",
   "execution_count": null,
   "metadata": {},
   "outputs": [],
   "source": [
    "# Crie um programa para ajudar a gerenciar as consultas em um hospital. O programa deve permitir que os funcionários do hospital cadastrem novos pacientes, agendem consultas, cancelem consultas e visualizem a lista de consultas para um determinado dia.\n",
    "# O programa deve incluir funções como:\n",
    "# - Cadastro de pacientes com informações básicas (nome, idade, número de telefone).\n",
    "# - Agendamento de consultas com data e hora.\n",
    "# - Verificação de disponibilidade para agendar uma nova consulta.\n",
    "# - Cancelamento de consultas.\n",
    "# - Visualização da lista de consultas para um dia específico.\n",
    "# Além disso, você deve criar um algoritmo com funções, em especial, função def.\n",
    "# Utilize estruturas inputs para usuários, estrutura de repetição e condição.\n",
    "# Entregue o arquivo em python e mostre o que faz cada parte do código desenvolvido."
   ]
  },
  {
   "cell_type": "code",
   "execution_count": 82,
   "metadata": {},
   "outputs": [],
   "source": [
    "# Criando uma lista vazia numa célula separada para podermos iniciar o programa\n",
    "cadastro = {\"Nome do paciente\": [],\n",
    "            \"Idade\": [],\n",
    "            \"Telefone\": [],\n",
    "            \"Data da consulta\": [],\n",
    "            \"Horário da consulta\": []\n",
    "            }\n"
   ]
  },
  {
   "cell_type": "code",
   "execution_count": null,
   "metadata": {},
   "outputs": [],
   "source": [
    "# Importando as bibliotecas necessárias\n",
    "import pandas as pd\n",
    "\n",
    "# Definindo a função para cadastrar pacientes\n",
    "def cadastrar_paciente():\n",
    "    # Iniciando um loop para continuar cadastrando pacientes até que se quebre o loop\n",
    "    while True:\n",
    "        # Pedindo input do usuário das informações do cadastro\n",
    "        nome = str(input(\"Digite o nome do paciente: \"))\n",
    "        idade = int(input(\"Digite a idade do paciente: \"))\n",
    "        telefone = int(input(\"Digite o telefone do paciente: \"))\n",
    "        data = (input(\"Para quando deseja marcar a consulta? dd/mm\"))\n",
    "        horario = (input(\"Qual o horário da consulta? hh:mm\"))\n",
    "        # Criando uma estrutura if else para verificar se uma data já está registrada no cadastro\n",
    "        if data not in cadastro[\"Data da consulta\"]:\n",
    "            # Caso a data não esteja cadastrada, adicionamos os inputs no cadastro\n",
    "            cadastro[\"Data da consulta\"].append(data)\n",
    "            cadastro[\"Horário da consulta\"].append(horario)\n",
    "            cadastro[\"Nome do paciente\"].append(nome)\n",
    "            cadastro[\"Idade\"].append(idade)\n",
    "            cadastro[\"Telefone\"].append(telefone)\n",
    "        # Caso contrário entramos em outro loop    \n",
    "        else:\n",
    "            # Caso o mesmo horário não esteja cadastrado numa mesma data, adicionamos os inputs no cadastro\n",
    "            if horario not in cadastro[\"Horário da consulta\"]:\n",
    "                cadastro[\"Data da consulta\"].append(data)\n",
    "                cadastro[\"Horário da consulta\"].append(horario)\n",
    "                cadastro[\"Nome do paciente\"].append(nome)\n",
    "                cadastro[\"Idade\"].append(idade)\n",
    "                cadastro[\"Telefone\"].append(telefone)\n",
    "            # Caso contrário, não adicionamos nada e imprimimos uma mensagem avisando que o horário já foi cadastrado    \n",
    "            else:\n",
    "                print(\"Este horário já está ocupado!\")\n",
    "        # Criando estrutura if else para verificar se desejamos parar com os cadastros        \n",
    "        deseja_continuar = str(input(\"Digite PARAR caso deseje parar.\")).upper()\n",
    "        # Caso o input seja igual à \"PARAR\", encerra-se o loop\n",
    "        if deseja_continuar == \"PARAR\":\n",
    "            break\n",
    "        # Caso contrário, o loop reinicia\n",
    "        else:\n",
    "            pass   \n",
    "\n",
    "# Aqui chamamos a função para cadastrar pacientes \n",
    "cadastrar_paciente()\n",
    "\n",
    "# Definimos uma variável que expressa os dados contidos no cadastro usando a biblioteca importada\n",
    "df = pd.DataFrame(cadastro)\n",
    "\n",
    "# Por fim, chamamos a variável criada no passo anterior\n",
    "df\n",
    "\n",
    "\n",
    "\n",
    "\n"
   ]
  },
  {
   "cell_type": "code",
   "execution_count": null,
   "metadata": {},
   "outputs": [],
   "source": [
    "# Criando função para cancelar consultas à partir do nome do paciente\n",
    "def cancelar_consultas():\n",
    "    # Conseguimos o input do nome e comparamos com a lista de nomes no cadastro\n",
    "    nome = str(input(\"Qual o nome do paciente cuja consulta você deseja cancelar?\"))\n",
    "    # Caso o nome inputado esteja no cadastro\n",
    "    if nome in cadastro[\"Nome do paciente\"]:\n",
    "        # Definimos uma variável index que contém o índice relativo do input na lista de cadastros\n",
    "        index = cadastro[\"Nome do paciente\"].index(nome)\n",
    "        # Deletados todas as informações que partilham do mesmo índice no cadastro\n",
    "        del cadastro[\"Nome do paciente\"][index]\n",
    "        del cadastro[\"Idade\"][index]\n",
    "        del cadastro[\"Telefone\"][index]\n",
    "        del cadastro[\"Data da consulta\"][index]\n",
    "        del cadastro[\"Horário da consulta\"][index]\n",
    "        # Imprimimos uma mensagem que confirma a deleção da consulta do cadastro\n",
    "        print(\"Consulta cancelada com sucesso!\")\n",
    "\n",
    "# Chamamos a função recém criada\n",
    "cancelar_consultas()\n",
    "# Definimos uma variável que expressa os dados contidos no cadastro usando a biblioteca importada novamente\n",
    "df = pd.DataFrame(cadastro)\n",
    "# Por fim, chamamos a variável criada no passo anterior\n",
    "df"
   ]
  },
  {
   "cell_type": "code",
   "execution_count": null,
   "metadata": {},
   "outputs": [],
   "source": [
    "# Criando função para verificar se existem cadastros numa data, e caso existam, imprimindo-os separadamente\n",
    "def verificar_datas():\n",
    "    # Criando uma lista vazia onde serão armazenas as informações das consultas marcadas na data requisitada\n",
    "    data_requisitada = []\n",
    "    # Conseguimos o input com a data desejada\n",
    "    data = input(\"Qual data você deseja verificar?\")\n",
    "    # Caso a data inputada esteja no cadastro, armazenamos o seu índice numa variável chamada index\n",
    "    if data in cadastro[\"Data da consulta\"]:\n",
    "        index = cadastro[\"Data da consulta\"].index(data)\n",
    "        # Em seguida, adicionando os items que correspondem ao index previsto no passo anterior à lista vazia um à um\n",
    "        data_requisitada.append(cadastro[\"Nome do paciente\"][index])\n",
    "        data_requisitada.append(cadastro[\"Idade\"][index])\n",
    "        data_requisitada.append(cadastro[\"Telefone\"][index])\n",
    "        data_requisitada.append(cadastro[\"Data da consulta\"][index])\n",
    "        data_requisitada.append(cadastro[\"Horário da consulta\"][index])\n",
    "        # Retornamos uma visualização dos dados contidos na lista data_requisitada utilizando a biblioteca\n",
    "        return pd.DataFrame(data_requisitada)\n",
    "\n",
    "# Finalmente, Chamamos à função criada\n",
    "verificar_datas()        "
   ]
  },
  {
   "cell_type": "markdown",
   "metadata": {},
   "source": [
    "Gostaria de otimizar o código, porém essa foi a melhor solução levando em conta as outras atividades pendentes. "
   ]
  }
 ],
 "metadata": {
  "kernelspec": {
   "display_name": "Python 3",
   "language": "python",
   "name": "python3"
  },
  "language_info": {
   "codemirror_mode": {
    "name": "ipython",
    "version": 3
   },
   "file_extension": ".py",
   "mimetype": "text/x-python",
   "name": "python",
   "nbconvert_exporter": "python",
   "pygments_lexer": "ipython3",
   "version": "3.11.6"
  }
 },
 "nbformat": 4,
 "nbformat_minor": 2
}
