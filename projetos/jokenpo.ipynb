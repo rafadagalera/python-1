{
 "cells": [
  {
   "cell_type": "code",
   "execution_count": null,
   "metadata": {},
   "outputs": [],
   "source": [
    "import random\n",
    "\n",
    "check_play_status = 'SIM'\n",
    "while check_play_status == 'SIM':\n",
    "    print('Vamos jogar jokenpo!')\n",
    "    user_choice = str(input('Escolha entre pedra, papel ou tesoura \\n').upper())\n",
    "    choices = ['PEDRA', 'PAPEL', 'TESOURA']\n",
    "    if user_choice not in ['PEDRA', 'PAPEL', 'TESOURA']:\n",
    "        print(\"Opção inválida\")\n",
    "    else:\n",
    "        computer_choice = random.choice(choices)\n",
    "        print('Você escolheu:', user_choice)\n",
    "        print('Eu escolhi:', computer_choice)\n",
    "        if user_choice == computer_choice:\n",
    "            print('Empate!')\n",
    "            check_play_status = str(input('Deseja jogar novamente? sim/não \\n').upper())\n",
    "        elif user_choice == 'PEDRA' and computer_choice == 'TESOURA' or user_choice == 'TESOURA' and computer_choice == 'PAPEL' or user_choice == 'PAPEL' and computer_choice == 'PEDRA':\n",
    "            print('Você venceu!')\n",
    "            check_play_status = str(input('Deseja jogar novamente? sim/não \\n').upper())\n",
    "        else:\n",
    "            print('Eu venci!')\n",
    "            check_play_status = str(input('Deseja jogar novamente? sim/não \\n').upper())    \n",
    "\n"
   ]
  }
 ],
 "metadata": {
  "kernelspec": {
   "display_name": "Python 3",
   "language": "python",
   "name": "python3"
  },
  "language_info": {
   "codemirror_mode": {
    "name": "ipython",
    "version": 3
   },
   "file_extension": ".py",
   "mimetype": "text/x-python",
   "name": "python",
   "nbconvert_exporter": "python",
   "pygments_lexer": "ipython3",
   "version": "3.11.4"
  }
 },
 "nbformat": 4,
 "nbformat_minor": 2
}
