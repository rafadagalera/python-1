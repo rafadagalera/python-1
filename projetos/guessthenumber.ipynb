{
 "cells": [
  {
   "cell_type": "code",
   "execution_count": 1,
   "metadata": {},
   "outputs": [
    {
     "name": "stdout",
     "output_type": "stream",
     "text": [
      "Maior!\n",
      "Maior!\n",
      "Maior!\n",
      "Menor!\n",
      "Menor!\n",
      "Menor!\n",
      "Menor!\n",
      "Menor!\n",
      "Menor!\n",
      "Menor!\n",
      "Menor!\n",
      "Menor!\n",
      "Maior!\n",
      "Você acertou! O número era: 25\n"
     ]
    }
   ],
   "source": [
    "import random\n",
    "\n",
    "secret = random.randint(1,100)\n",
    "\n",
    "guess = int(input('Digite um número'))\n",
    "while guess != secret:\n",
    "    if guess > secret:\n",
    "        print('Menor!')\n",
    "        guess = int(input('Digite um número'))\n",
    "    elif guess < secret:\n",
    "        print('Maior!')\n",
    "        guess = int(input('Digite um número'))\n",
    "    else:\n",
    "        break\n",
    "print('Você acertou! O número era:', secret)            "
   ]
  }
 ],
 "metadata": {
  "kernelspec": {
   "display_name": "Python 3",
   "language": "python",
   "name": "python3"
  },
  "language_info": {
   "codemirror_mode": {
    "name": "ipython",
    "version": 3
   },
   "file_extension": ".py",
   "mimetype": "text/x-python",
   "name": "python",
   "nbconvert_exporter": "python",
   "pygments_lexer": "ipython3",
   "version": "3.11.4"
  },
  "orig_nbformat": 4
 },
 "nbformat": 4,
 "nbformat_minor": 2
}
