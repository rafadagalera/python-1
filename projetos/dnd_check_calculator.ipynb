{
 "cells": [
  {
   "cell_type": "code",
   "execution_count": 3,
   "metadata": {},
   "outputs": [
    {
     "name": "stdout",
     "output_type": "stream",
     "text": [
      " Bem vindo ao aplicativo de calculadora de dados para RPG do dagalera! \n",
      " Este aplicativo calcula o resultado de um check de D&D 5e comparando o DC do check com o o número tirado nos dados somado com os modificadores relevantes ao check! \n",
      " Este aplicativo vem com as funções de vantagem e desvantagem embutidas, digite 'help' no primeiro input para mais instruções!\n",
      "Você tirou: 17\n",
      "17 + 7 = 24\n",
      "O DC deste check é: 15\n",
      "Sucesso!\n"
     ]
    }
   ],
   "source": [
    "import random\n",
    "from sympy import *\n",
    "print(\" Bem vindo ao aplicativo de calculadora de dados para RPG do dagalera! \\n Este aplicativo calcula o resultado de um check de D&D 5e comparando o DC do check com o o número tirado nos dados somado com os modificadores relevantes ao check! \\n Este aplicativo vem com as funções de vantagem e desvantagem embutidas, digite 'help' no primeiro input para mais instruções!\")\n",
    "check = str(input(\"O check será feito com vantagem(V), desvantagem(D) ou natural(N)?\"))\n",
    "\n",
    "if check == \"help\":\n",
    "  print(\" Para utilizar esse aplicativo, primeiro esclareça se o check será feito com vantagem, desvantagem ou se ambos não se aplicam. \\n Caso o check seja feito com vantagem, responda somente com 'V' ou 'v'. \\n Caso o check seja feito com desvantagem, responda somente com 'D' ou 'd'. \\n Caso o check seja feito sem contar com vantagem ou desvantagem, responda somente 'N' ou 'n'. \\n Em seguida, forneça o DC do check e os modificadores nele aplicados(apenas os números). \\n O aplicativo então calculará o resultado do seu check e o exibirá em detalhes. \\n Faça bom uso e boa sorte em suas aventuras!\")\n",
    "elif check == \"N\" or check == \"n\":\n",
    "  d20 = random.randint(1, 20)\n",
    "  print(\"Você tirou:\", d20)\n",
    "  DC = int(input(\"Qual o DC do Check?\"))\n",
    "  mods = int(input(\"Quais os modificadores relevantes para o check?\"))\n",
    "  print(d20, \"+\", mods, \"=\", d20 + mods)\n",
    "  print(\"O DC deste check é:\", DC)\n",
    "  if d20 + mods >= DC:\n",
    "    print(\"Sucesso!\")\n",
    "  else:\n",
    "    print(\"Fracasso!\")\n",
    "elif check == \"V\" or check == \"v\":\n",
    "  d20v = [random.randint(1, 20), random.randint(1, 20)]\n",
    "  print(\"Você tirou:\", d20v[0],\"e\", d20v[1])\n",
    "  rollv = max(d20v)\n",
    "  print(\"Descartando o menor valor, você tirou:\",rollv)\n",
    "  DC = int(input(\"Qual o DC do Check?\"))\n",
    "  mods = int(input(\"Quais os modificadores relevantes para o check?\"))\n",
    "  print(rollv, \"+\", mods, \"=\", rollv + mods)\n",
    "  print(\"O DC deste check é:\", DC)\n",
    "  if rollv + mods >= 20:\n",
    "    print(\"Sucesso!\")\n",
    "  else:\n",
    "    print(\"Fracasso!\")  \n",
    "elif check == \"D\" or check == \"d\":\n",
    "  d20d = [random.randint(1, 20), random.randint(1, 20)]\n",
    "  print(\"Você tirou:\", d20d[0],\"e\", d20d[1])\n",
    "  rolld = min(d20d)\n",
    "  print(\"Descartando o maior valor, você tirou:\",rolld)\n",
    "  DC = int(input(\"Qual o DC do Check?\"))\n",
    "  mods = int(input(\"Quais os modificadores relevantes para o check?\"))\n",
    "  print(rolld, \"+\", mods, \"=\", rolld + mods)\n",
    "  print(\"O DC deste check é:\", DC)\n",
    "  if rolld + mods >= 20:\n",
    "    print(\"Sucesso!\")\n",
    "  else:\n",
    "    print(\"Fracasso!\")  "
   ]
  }
 ],
 "metadata": {
  "kernelspec": {
   "display_name": "Python 3",
   "language": "python",
   "name": "python3"
  },
  "language_info": {
   "codemirror_mode": {
    "name": "ipython",
    "version": 3
   },
   "file_extension": ".py",
   "mimetype": "text/x-python",
   "name": "python",
   "nbconvert_exporter": "python",
   "pygments_lexer": "ipython3",
   "version": "3.11.4"
  },
  "orig_nbformat": 4
 },
 "nbformat": 4,
 "nbformat_minor": 2
}
