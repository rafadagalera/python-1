{
 "cells": [
  {
   "cell_type": "code",
   "execution_count": 14,
   "metadata": {},
   "outputs": [
    {
     "name": "stdout",
     "output_type": "stream",
     "text": [
      "Hello World!\n"
     ]
    }
   ],
   "source": [
    "class MyClass:\n",
    "    def SayHello():\n",
    "        print(\"Hello World!\")\n",
    "intance = MyClass()\n",
    "MyClass.SayHello()        "
   ]
  },
  {
   "cell_type": "code",
   "execution_count": 15,
   "metadata": {},
   "outputs": [
    {
     "name": "stdout",
     "output_type": "stream",
     "text": [
      "Hello there!\n"
     ]
    }
   ],
   "source": [
    "class MyClass:\n",
    "    greetings = ''\n",
    "\n",
    "    def __init__(self,name = \"there\",):\n",
    "        self.greetings = name + \"!\"\n",
    "    def say_hello(self):\n",
    "        print(\"Hello {0}\".format(self.greetings))    \n",
    "\n",
    "instance = MyClass()\n",
    "instance.say_hello()"
   ]
  },
  {
   "cell_type": "code",
   "execution_count": 16,
   "metadata": {},
   "outputs": [
    {
     "name": "stdout",
     "output_type": "stream",
     "text": [
      "Hello rafael!\n"
     ]
    }
   ],
   "source": [
    "instance2 = MyClass(\"rafael\")\n",
    "instance2.say_hello()"
   ]
  },
  {
   "attachments": {},
   "cell_type": "markdown",
   "metadata": {},
   "source": [
    "Classe cachorro\n",
    "\n",
    "\n",
    "nome e idade\n",
    "\n",
    "\n",
    "sentar e rolar"
   ]
  },
  {
   "cell_type": "code",
   "execution_count": 17,
   "metadata": {},
   "outputs": [
    {
     "name": "stdout",
     "output_type": "stream",
     "text": [
      "adada está sentado\n",
      "dasda está rolando\n"
     ]
    }
   ],
   "source": [
    "class Cachorro:\n",
    "    def __init__(self,nome,idade):\n",
    "        self.nome = nome\n",
    "        self.idade = idade \n",
    "    def sentar(self):\n",
    "        print(f\"{self.nome} está sentado\")    \n",
    "    def rolando(self):\n",
    "        print(f\"{self.nome} está rolando\")\n",
    "cachorro = Cachorro(\"adada\",2)\n",
    "cachorro.sentar()        \n",
    "cachorro2 = Cachorro(\"dasda\",5)\n",
    "cachorro2.rolando()"
   ]
  },
  {
   "cell_type": "code",
   "execution_count": 32,
   "metadata": {},
   "outputs": [
    {
     "data": {
      "text/plain": [
       "4000"
      ]
     },
     "execution_count": 32,
     "metadata": {},
     "output_type": "execute_result"
    }
   ],
   "source": [
    "class Conta:\n",
    "    def __init__(self,quantia):\n",
    "        self.saldo = quantia\n",
    "    def levantamento(self,quantia):\n",
    "        if self.saldo - quantia > 0:\n",
    "            self.saldo = self.saldo - quantia\n",
    "        return self.saldo\n",
    "    def deposito(self,quantia):\n",
    "        self.saldo = self.saldo + quantia\n",
    "        return self.saldo\n",
    "    def consulta(self):\n",
    "        return self.saldo\n",
    "conta1 = Conta(2000)\n",
    "conta2 = Conta(3000)\n",
    "conta1.deposito(2000)\n",
    "conta1.levantamento(10000)\n",
    "conta1.consulta()"
   ]
  },
  {
   "cell_type": "code",
   "execution_count": 41,
   "metadata": {},
   "outputs": [
    {
     "name": "stdout",
     "output_type": "stream",
     "text": [
      "Nome: hahahahaha. Tipo: haha\n",
      "O restaurante hahahahaha está aberto!\n",
      "Nome: xdxdxd. Tipo: hahaxdxd\n",
      "O restaurante xdxdxd está aberto!\n"
     ]
    }
   ],
   "source": [
    "class Restaurante:\n",
    "    def __init__(self,nome_restaurante,tipo_cozinha):\n",
    "        self.nome_restaurante = nome_restaurante\n",
    "        self.tipo_cozinha = tipo_cozinha\n",
    "    def descricao_restaurante(self):\n",
    "        print(f\"Nome: {self.nome_restaurante}. Tipo: {self.tipo_cozinha}\")\n",
    "    def open_restaurante(self):\n",
    "        print(f\"O restaurante {self.nome_restaurante} está aberto!\")\n",
    "\n",
    "restaurante1 = Restaurante(\"hahahahaha\",\"haha\")\n",
    "restaurante2 = Restaurante(\"xdxdxd\",\"hahaxdxd\")\n",
    "\n",
    "restaurante1.descricao_restaurante()\n",
    "restaurante1.open_restaurante()\n",
    "restaurante2.descricao_restaurante()\n",
    "restaurante2.open_restaurante()"
   ]
  },
  {
   "cell_type": "code",
   "execution_count": 45,
   "metadata": {},
   "outputs": [
    {
     "name": "stdout",
     "output_type": "stream",
     "text": [
      "O carro me está ligado\n",
      "O carro me está desligado\n",
      "Carro da marca let, modelo me do ano de out\n"
     ]
    }
   ],
   "source": [
    "class Veiculo():\n",
    "    def __init__(self,marca,modelo,ano):\n",
    "        self.marca = marca \n",
    "        self.modelo = modelo \n",
    "        self.ano = ano\n",
    "    def ligar(self):\n",
    "        print(f\"O carro {self.modelo} está ligado\" )\n",
    "\n",
    "    def deslgar(self):    \n",
    "        print(f\"O carro {self.modelo} está desligado\" )\n",
    "    def obter_info(self):\n",
    "        print(f\"Carro da marca {self.marca}, modelo {self.modelo} do ano de {self.ano}\")\n",
    "\n",
    "veiculo = Veiculo(\"let\", \"me\", \"out\")\n",
    "veiculo.ligar()\n",
    "veiculo.deslgar()\n",
    "veiculo.obter_info()\n",
    "             "
   ]
  }
 ],
 "metadata": {
  "kernelspec": {
   "display_name": "Python 3",
   "language": "python",
   "name": "python3"
  },
  "language_info": {
   "codemirror_mode": {
    "name": "ipython",
    "version": 3
   },
   "file_extension": ".py",
   "mimetype": "text/x-python",
   "name": "python",
   "nbconvert_exporter": "python",
   "pygments_lexer": "ipython3",
   "version": "3.11.4"
  },
  "orig_nbformat": 4
 },
 "nbformat": 4,
 "nbformat_minor": 2
}
