{
 "cells": [
  {
   "cell_type": "code",
   "execution_count": 15,
   "metadata": {},
   "outputs": [],
   "source": [
    "import pandas as pd\n",
    "import numpy as np\n"
   ]
  },
  {
   "cell_type": "code",
   "execution_count": 4,
   "metadata": {},
   "outputs": [
    {
     "data": {
      "text/plain": [
       "('Chevrolet',\n",
       " 'Fiat',\n",
       " 'Volvo',\n",
       " 'Audi',\n",
       " 'Mercedez',\n",
       " 'Toyota',\n",
       " 'Mitsubishi',\n",
       " 'Ford')"
      ]
     },
     "execution_count": 4,
     "metadata": {},
     "output_type": "execute_result"
    }
   ],
   "source": [
    "# Crie uma tupla chamada marca_carros com os seguintes elementos:\n",
    "#  Chevrolet, Fiat, Honda, Audi, Mercedez, Toyota.\n",
    "#  Acesse o terceiro elemento da tupla, substitua por Volvo e crie uma variável\n",
    "#  chamada marca_carros_modificadas. Após isso, concatene esta tupla com uma nova\n",
    "#  tupla contendo Mitsubishi e Ford. Por fim, retorne apenas uma tupla chamada \n",
    "# tupla-carros\n",
    "\n",
    "marca_carros = (\"Chevrolet\", \"Fiat\", \"Honda\", \"Audi\", \"Mercedez\", \"Toyota\")\n",
    "marca_carros_lista = list(marca_carros)\n",
    "marca_carros_lista[2] = \"Volvo\"\n",
    "marca_carros_modificados = tuple(marca_carros_lista)\n",
    "marca_carros_novos = (\"Mitsubishi\",\"Ford\")\n",
    "np.array(marca_carros_modificados)\n",
    "np.array(marca_carros_novos)\n",
    "\n",
    "array_carros = np.concatenate([marca_carros_modificados,marca_carros_novos])\n",
    "tupla_carros = tuple(array_carros)\n",
    "tupla_carros"
   ]
  },
  {
   "cell_type": "code",
   "execution_count": 31,
   "metadata": {},
   "outputs": [
    {
     "data": {
      "text/plain": [
       "110"
      ]
     },
     "execution_count": 31,
     "metadata": {},
     "output_type": "execute_result"
    }
   ],
   "source": [
    "# Crie uma lista com os números do seu RM, separado por vírgula para cada número.\n",
    "#  Após isso, crie uma estrutura usando a função def para retornar a soma do quadrado\n",
    "# do seu número do RM\n",
    "RM = [5,5,3,1,1,7]\n",
    "\n",
    "def soma_RM():\n",
    "    quadrados = []\n",
    "    for i in RM:\n",
    "        quadrados.append(i**2)\n",
    "    soma = sum(quadrados)\n",
    "    return soma    \n",
    "\n",
    "soma_RM()"
   ]
  },
  {
   "cell_type": "code",
   "execution_count": 28,
   "metadata": {},
   "outputs": [
    {
     "name": "stdout",
     "output_type": "stream",
     "text": [
      "Rafael  Nascimento\n"
     ]
    }
   ],
   "source": [
    "# Crie uma estrutura de entrada para o usuário na qual seja solicitado o seu \n",
    "# primeiro e segundo nome. Em seguida, desenvolva uma estrutura que retorne à\n",
    "#  junção do primeiro e segundo nome em um print, com a primeira letra de cada nome \n",
    "# em maiúscula.\n",
    "\n",
    "def nome_completo():\n",
    "    nome = str(input(\"Nome\"))\n",
    "    sobrenome = str(input(\"Sobrenome\"))\n",
    "    nome_alterado = nome[0].upper() + nome[1:]\n",
    "    sobrenome_alterado = sobrenome[0].upper() + sobrenome[1:]\n",
    "\n",
    "    print(nome_alterado, \"\", sobrenome_alterado)\n",
    "\n",
    "nome_completo()"
   ]
  },
  {
   "cell_type": "code",
   "execution_count": 41,
   "metadata": {},
   "outputs": [
    {
     "name": "stdout",
     "output_type": "stream",
     "text": [
      "A menor venda é:  Mercedez\n",
      "A maior venda é:  Honda\n",
      "A média das vendas é:  1505.3333333333333\n",
      "A soma das vendas é:  9032\n"
     ]
    }
   ],
   "source": [
    "# Para a lista de carros Chevrolet, Fiat, Honda, Audi, Mercedez, Toyota \n",
    "# contendo as respectivas quantidades de vendas, 2000, 1300, 2500, 900, 832, 1500,\n",
    "#  crie um dataframe com estas informações e retorne quatro prints mostrando a \n",
    "# quantidade mínima, máxima, média e soma de vendas.\n",
    "data = {\n",
    "    \"Marcas\": [\"Chevrolet\", \"Fiat\", \"Honda\", \"Audi\", \"Mercedez\", \"Toyota\"],\n",
    "    \"Vendas\":[2000, 1300, 2500, 900, 832, 1500]\n",
    "}\n",
    "df = pd.DataFrame(data)\n",
    "\n",
    "indice_menor = []\n",
    "for i in range(len(df[\"Vendas\"])):\n",
    "    if data[\"Vendas\"][i] == min(data[\"Vendas\"]):\n",
    "        indice_menor.append(i)\n",
    "    else:\n",
    "         pass\n",
    "print(\"A menor venda é: \", data[\"Marcas\"][indice_menor[0]])\n",
    "indice_maior = []\n",
    "for i in range(len(df[\"Vendas\"])):\n",
    "    if data[\"Vendas\"][i] == max(data[\"Vendas\"]):\n",
    "        indice_maior.append(i)\n",
    "    else:\n",
    "         pass\n",
    "print(\"A maior venda é: \", data[\"Marcas\"][indice_maior[0]])\n",
    "print(\"A média das vendas é: \", df[\"Vendas\"].mean())    \n",
    "print(\"A soma das vendas é: \",sum(data[\"Vendas\"]))   \n",
    "       "
   ]
  },
  {
   "cell_type": "code",
   "execution_count": 61,
   "metadata": {},
   "outputs": [
    {
     "name": "stdout",
     "output_type": "stream",
     "text": [
      "A temperatura média é:  29.633333333333333\n",
      "O dia mais quente do mês foi o dia:  27\n",
      "Dias onde a temperatura ultrapassou 30 graus:  [3, 11, 12, 13, 14, 15, 16, 17, 27, 28, 29, 30]\n",
      "Dias onde a temperatura ultrapassou 30 graus:  [2, 3, 11, 12, 13, 14, 15, 16, 17, 18, 27, 28, 29, 30]\n"
     ]
    }
   ],
   "source": [
    "# Armazene os dados a seguir em uma variável chamada temperatura \n",
    "# (28, 30, 32, 29, 27, 26, 25, 26, 28, 29, 35, 31, 32, 33, 34, 33, 31, 30, 29, 28,\n",
    "#  27, 26, 25, 26, 27, 28, 38, 31, 32, 33) e crie um Pandas Series para estes dados.\n",
    "#  Após isso, responda:\n",
    "\n",
    "temperatura = (temperatura_media, 28, 30, 32, 29, 27, 26, 25, 26, 28, 29, 35, 31, 32, 33, 34, 33, 31, 30, 29, 28,\n",
    "27, 26, 25, 26, 27, 28, 38, 31, 32, 33)\n",
    "\n",
    "temperatura_series = pd.Series(temperatura)\n",
    "\n",
    "# a) temperatura média do mês \n",
    "temperatura_media = temperatura_series.mean()\n",
    "print(\"A temperatura média é: \",temperatura_media)\n",
    "# b) dia mais quente do mês \n",
    "dia_mais_quente = []\n",
    "for i in range(len(temperatura_series)):\n",
    "    if temperatura_series[i] == max(temperatura_series):\n",
    "        dia_mais_quente.append(i)\n",
    "    else:\n",
    "        pass       \n",
    "print(\"O dia mais quente do mês foi o dia: \",dia_mais_quente[0])\n",
    "# c) dias em que a temperatura ultrapassou 30 graus celsius\n",
    "dias_maior_30 = []\n",
    "for i in range(len(temperatura_series)):\n",
    "    if temperatura_series[i] > 30:\n",
    "        dias_maior_30.append(i)\n",
    "    else:\n",
    "        pass\n",
    "print(\"Dias onde a temperatura ultrapassou 30 graus: \",dias_maior_30) \n",
    "dias_maior_media = []\n",
    "for i in range(len(temperatura_series)):\n",
    "    if temperatura_series[i] > temperatura_media:\n",
    "        dias_maior_media.append(i)\n",
    "    else:\n",
    "        pass\n",
    "print(\"Dias onde a temperatura ultrapassou 30 graus: \",dias_maior_media)         "
   ]
  },
  {
   "cell_type": "code",
   "execution_count": 72,
   "metadata": {},
   "outputs": [
    {
     "name": "stdout",
     "output_type": "stream",
     "text": [
      "O mês com a maior precipitação foi o mês:  1\n",
      "136.66666666666666\n",
      "A precipitação foi maior que 150mm nos meses:  [1, 2, 3, 11, 12]\n",
      "A precipitação foi maior que 150mm nos meses:  [5, 6, 7, 8, 9]\n"
     ]
    }
   ],
   "source": [
    "# Considere os dados históricos de precipitação pluviométrica mensal na cidade de\n",
    "# São Paulo, representados em milímetros, para o ano de 2023:\n",
    "# 270, 210, 160, 120, 80, 50, 40, 50, 80, 140, 190, 250 e\n",
    "#  desenvolva lógicas para resolver os seguintes problemas usando numpy \n",
    "# unidimensional:\n",
    "\n",
    "chuvas = [media_chuvas, 270, 210, 160, 120, 80, 50, 40, 50, 80, 140, 190, 250]\n",
    "chuvas_array = np.array(chuvas)\n",
    "# a)Calcule o total de precipitação pluviométrica ao longo do ano de 2023.\n",
    "total_chuvas = sum(chuvas_array)\n",
    "# b) Determine o mês com maior precipitação.\n",
    "mes_maior_chuva = []\n",
    "for i in range(len(chuvas_array)):\n",
    "    if chuvas_array[i] == max(chuvas_array):\n",
    "        mes_maior_chuva.append(i)\n",
    "    else:\n",
    "        pass\n",
    "\n",
    "print(\"O mês com a maior precipitação foi o mês: \",mes_maior_chuva[0] )\n",
    "# c) Calcule a média de chuvas por mês.\n",
    "media_chuvas = (chuvas_array).mean()\n",
    "print(media_chuvas)\n",
    "# d) Encontre os meses em que a precipitação foi superior a 150 mm.\n",
    "mes_maior_150 = []\n",
    "for i in range(len(chuvas_array)):\n",
    "    if chuvas_array[i] > 150:\n",
    "        mes_maior_150.append(i)\n",
    "    else:\n",
    "        pass\n",
    "print(\"A precipitação foi maior que 150mm nos meses: \",mes_maior_150)  \n",
    "\n",
    "# e) Determine a quantidade de meses em que a precipitação foi inferior a 100 mm.\n",
    "mes_menor_100 = []\n",
    "for i in range(len(chuvas_array)):\n",
    "    if chuvas_array[i] < 100:\n",
    "        mes_menor_100.append(i)\n",
    "    else:\n",
    "        pass\n",
    "print(\"A precipitação foi maior que 150mm nos meses: \",mes_menor_100)\n"
   ]
  }
 ],
 "metadata": {
  "kernelspec": {
   "display_name": "Python 3",
   "language": "python",
   "name": "python3"
  },
  "language_info": {
   "codemirror_mode": {
    "name": "ipython",
    "version": 3
   },
   "file_extension": ".py",
   "mimetype": "text/x-python",
   "name": "python",
   "nbconvert_exporter": "python",
   "pygments_lexer": "ipython3",
   "version": "3.11.4"
  },
  "orig_nbformat": 4
 },
 "nbformat": 4,
 "nbformat_minor": 2
}
