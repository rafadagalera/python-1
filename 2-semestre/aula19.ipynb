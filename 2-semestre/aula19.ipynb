{
 "cells": [
  {
   "cell_type": "code",
   "execution_count": 11,
   "metadata": {},
   "outputs": [],
   "source": [
    "import pandas as pd\n",
    "import numpy as np"
   ]
  },
  {
   "cell_type": "code",
   "execution_count": 24,
   "metadata": {},
   "outputs": [],
   "source": [
    "array = np.array([2,4,6])"
   ]
  },
  {
   "cell_type": "code",
   "execution_count": 25,
   "metadata": {},
   "outputs": [
    {
     "data": {
      "text/plain": [
       "array([ 4, 16, 36])"
      ]
     },
     "execution_count": 25,
     "metadata": {},
     "output_type": "execute_result"
    }
   ],
   "source": [
    "def quadrado(x):\n",
    "    y = x * x\n",
    "    return y\n",
    "quadrado(array)"
   ]
  },
  {
   "cell_type": "code",
   "execution_count": 26,
   "metadata": {},
   "outputs": [
    {
     "data": {
      "text/plain": [
       "1296"
      ]
     },
     "execution_count": 26,
     "metadata": {},
     "output_type": "execute_result"
    }
   ],
   "source": [
    "def soma_quadrado(x,y,z):\n",
    "    a = quadrado(x)\n",
    "    b = quadrado(y)\n",
    "    c = quadrado(z)\n",
    "    return a + b + c\n",
    "soma_quadrado(4,16,32)\n"
   ]
  },
  {
   "attachments": {},
   "cell_type": "markdown",
   "metadata": {},
   "source": [
    "calculando área de um retângulo\n"
   ]
  },
  {
   "cell_type": "code",
   "execution_count": 37,
   "metadata": {},
   "outputs": [
    {
     "data": {
      "text/plain": [
       "8.0"
      ]
     },
     "execution_count": 37,
     "metadata": {},
     "output_type": "execute_result"
    }
   ],
   "source": [
    "def area(x,y):\n",
    "    return x * y\n",
    "\n",
    "def mostrar_area():\n",
    "    c = float(input(\"Comprimento\"))\n",
    "    l = float(input(\"Largura\"))\n",
    "    return area(c,l)\n",
    "\n",
    "mostrar_area()\n"
   ]
  },
  {
   "attachments": {},
   "cell_type": "markdown",
   "metadata": {},
   "source": [
    "crie um programa para calcular a soma e a media usando duas funções"
   ]
  },
  {
   "cell_type": "code",
   "execution_count": 40,
   "metadata": {},
   "outputs": [
    {
     "data": {
      "text/plain": [
       "30.0"
      ]
     },
     "execution_count": 40,
     "metadata": {},
     "output_type": "execute_result"
    }
   ],
   "source": [
    "a = [10,20,30,40,50]\n",
    "def soma(lista):\n",
    "    return sum(lista)\n",
    "def media(total,lista):\n",
    "    total = soma(a)\n",
    "    return total / len(lista)\n",
    "media(soma,a)"
   ]
  },
  {
   "attachments": {},
   "cell_type": "markdown",
   "metadata": {},
   "source": [
    "Crie um programa para retornar o valor mínimo, outra para retornar o valor máximo e outra para retornar a diferença entre o máximo e mínimo"
   ]
  },
  {
   "cell_type": "code",
   "execution_count": 43,
   "metadata": {},
   "outputs": [
    {
     "data": {
      "text/plain": [
       "40"
      ]
     },
     "execution_count": 43,
     "metadata": {},
     "output_type": "execute_result"
    }
   ],
   "source": [
    "a = [10,20,30,40,50]\n",
    "\n",
    "def maximo(lista):\n",
    "    return max(lista)\n",
    "\n",
    "def minimo(lista):\n",
    "    return min(lista)\n",
    "\n",
    "def diferença(maior,menor):\n",
    "    return maior - menor\n",
    "\n",
    "diferença(maximo(a),minimo(a))"
   ]
  },
  {
   "attachments": {},
   "cell_type": "markdown",
   "metadata": {},
   "source": [
    "Crie um programa que solicita o salário de um um funcionário. Após isso, crie uma segunda função para calcular o desconto do funcionáio. Posteriormente, crie uma terceira função para retornar o salário que o funcionário deverá receber. Faixas salariais e seus respectivos descontos:\n",
    "\n",
    "Até 2000 reais: 10% de desconto\n",
    "\n",
    "Acima de 2000 até 4800 reais: 15% de desconto\n",
    "\n",
    "Acima de 4800 até 6000 reais: 20% de desconto\n",
    "\n",
    "Acima de 6000 reais: 30% de desconto\n"
   ]
  },
  {
   "cell_type": "code",
   "execution_count": 84,
   "metadata": {},
   "outputs": [
    {
     "name": "stdout",
     "output_type": "stream",
     "text": [
      "Desconto:  0.3\n",
      "Salário final:  6300.0\n"
     ]
    }
   ],
   "source": [
    "def salario():\n",
    "    salario  =float(input(\"Digite o seu salário\"))\n",
    "    return salario\n",
    "def desconto(salario):\n",
    "    if salario <= 2000:\n",
    "        desconto = (10/100)\n",
    "    elif salario > 2000 and salario <= 4800:\n",
    "        desconto = (15/100)\n",
    "    elif salario > 4800 and salario <= 6000:\n",
    "        desconto = (20/100)\n",
    "    else:\n",
    "        desconto = (30/100)\n",
    "    return desconto    \n",
    "def salario_final(salario):\n",
    "    salario_final = salario - desconto(salario) * salario\n",
    "    return salario_final\n",
    "\n",
    "print(\"Desconto: \",desconto(salario()))\n",
    "print(\"Salário final: \",salario_final(salario()))\n"
   ]
  },
  {
   "attachments": {},
   "cell_type": "markdown",
   "metadata": {},
   "source": [
    "6. Crie um programa para calcular área de um círculo. Uma função para calcular a área e outra para classifiar a área.\n",
    "\n",
    "area > 100 - grande círculo\n",
    "area > 50 - médio círculo\n",
    "else - pequeno círculo"
   ]
  },
  {
   "cell_type": "code",
   "execution_count": 69,
   "metadata": {},
   "outputs": [
    {
     "data": {
      "text/plain": [
       "'Médio círculo'"
      ]
     },
     "execution_count": 69,
     "metadata": {},
     "output_type": "execute_result"
    }
   ],
   "source": [
    "def calcular_area():\n",
    "    r = float(input(\"Raio do círculo\"))\n",
    "    area = 3.14  * r**2\n",
    "    return area\n",
    "def comparar_area():\n",
    "    area = calcular_area()\n",
    "    if area > 100:\n",
    "        resultado = \"Grande círculo\"\n",
    "    elif area < 100 and area > 50:\n",
    "        resultado = \"Médio círculo\"\n",
    "    else:\n",
    "        resultado = \"Pequeno círculo\"\n",
    "\n",
    "    return resultado\n",
    "comparar_area()   "
   ]
  },
  {
   "attachments": {},
   "cell_type": "markdown",
   "metadata": {},
   "source": [
    "7. Crie uma função para multiplicar os valores de duas listas. A primeira função faz a multiplicação e a segunda pegará a primeira e utilizará um append produtos = [] para multiplicar os respectivos índices das duas listas.\n",
    "\n",
    "lista 1 = [1, 2, 3, 4]\n",
    "lista 2 = [5, 6, 7, 8]"
   ]
  },
  {
   "cell_type": "code",
   "execution_count": 81,
   "metadata": {},
   "outputs": [
    {
     "data": {
      "text/plain": [
       "[5, 12, 21, 32]"
      ]
     },
     "execution_count": 81,
     "metadata": {},
     "output_type": "execute_result"
    }
   ],
   "source": [
    "l1 = [1, 2, 3, 4]\n",
    "l2 = [5, 6, 7, 8]\n",
    "\n",
    "def multiplicar(x,y):\n",
    "    z = x * y\n",
    "    return z\n",
    "def multiplicar_lista(lista1,lista2):\n",
    "    produtos = []\n",
    "    for i in range(len(lista1)):\n",
    "        produtos.append(multiplicar(lista1[i], lista2[i]))\n",
    "    return produtos    \n",
    "multiplicar_lista(l1,l2)\n",
    "\n"
   ]
  },
  {
   "attachments": {},
   "cell_type": "markdown",
   "metadata": {},
   "source": [
    "Crie um programa para uma calculadora simples de tal forma que tenha uma função para cada operação(-,+,/,*). Posteriormente, crie uma função para operações, que fará as quatro operações ao mesmo tempo"
   ]
  },
  {
   "cell_type": "code",
   "execution_count": 110,
   "metadata": {},
   "outputs": [
    {
     "data": {
      "text/plain": [
       "[5, 6]"
      ]
     },
     "execution_count": 110,
     "metadata": {},
     "output_type": "execute_result"
    }
   ],
   "source": [
    "def soma(a,b):\n",
    "    return a + b\n",
    "def diferenca(a,b):\n",
    "    return a - b\n",
    "def multiplicar(a,b):\n",
    "    return a * b\n",
    "def divisao(a,b):\n",
    "    return a / b\n",
    "\n",
    "def calcular(operacoes):\n",
    "    resultados = []\n",
    "\n",
    "    for op, a, b in operacoes:\n",
    "        if op == \"+\":\n",
    "            resultados.append(soma(a,b))\n",
    "        elif op == \"-\":\n",
    "            resultados.append(diferenca(a,b)) \n",
    "        elif op == \"*\":\n",
    "            resultados.append(multiplicar(a,b)) \n",
    "        elif op == \"/\":\n",
    "            resultados.append(divisao(a,b)) \n",
    "    return resultados\n",
    "\n",
    "expressão = [(\"+\",2,3),(\"*\",2,3)]\n",
    "calcular(expressão)       \n",
    "        "
   ]
  },
  {
   "attachments": {},
   "cell_type": "markdown",
   "metadata": {},
   "source": []
  }
 ],
 "metadata": {
  "kernelspec": {
   "display_name": "Python 3",
   "language": "python",
   "name": "python3"
  },
  "language_info": {
   "codemirror_mode": {
    "name": "ipython",
    "version": 3
   },
   "file_extension": ".py",
   "mimetype": "text/x-python",
   "name": "python",
   "nbconvert_exporter": "python",
   "pygments_lexer": "ipython3",
   "version": "3.11.4"
  },
  "orig_nbformat": 4
 },
 "nbformat": 4,
 "nbformat_minor": 2
}
