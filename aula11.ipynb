{
 "cells": [
  {
   "cell_type": "code",
   "execution_count": 2,
   "metadata": {},
   "outputs": [
    {
     "name": "stdout",
     "output_type": "stream",
     "text": [
      "Valor válido 9\n"
     ]
    }
   ],
   "source": [
    "# Validação de inteiro usando função\n",
    "def faixa_int(mini,maxi):\n",
    "    while True:\n",
    "        v = int(input(\"Entre com um valor entre {} e {}\".format(mini,maxi)))\n",
    "        if v < mini or v > maxi:\n",
    "            print(\"Valor inválido. Digite um valor entre {} e {}\".format(mini,maxi))\n",
    "        else:\n",
    "            return v\n",
    "mini = 5\n",
    "maxi = 10\n",
    "\n",
    "valor = faixa_int(mini,maxi)\n",
    "print(\"Valor válido\", valor)\n"
   ]
  },
  {
   "cell_type": "code",
   "execution_count": 12,
   "metadata": {},
   "outputs": [
    {
     "name": "stdout",
     "output_type": "stream",
     "text": [
      "Texto inválido. Insira um texto entre 5 e 10 caracteres\n",
      "Texto inválido. Insira um texto entre 5 e 10 caracteres\n",
      "Texto inválido. Insira um texto entre 5 e 10 caracteres\n",
      "Texto inválido. Insira um texto entre 5 e 10 caracteres\n",
      "Texto inválido. Insira um texto entre 5 e 10 caracteres\n",
      "Texto inválido. Insira um texto entre 5 e 10 caracteres\n",
      "Texto válido aaaaaa\n"
     ]
    }
   ],
   "source": [
    "# Ex 01: Validação de string usando função\n",
    "\n",
    "def faix_str(minimo,maximo):\n",
    "    while True:\n",
    "        s = str(input(\"Insira um texto entre {} e {} caracteres\".format(minimo,maximo)))\n",
    "        if len(s) < minimo or len(s) > maximo:\n",
    "            print(\"Texto inválido. Insira um texto entre {} e {} caracteres\".format(minimo,maximo))\n",
    "        else:\n",
    "            return s\n",
    "minimo = 5\n",
    "maximo = 10\n",
    "texto = faix_str(minimo,maximo)\n",
    "print(\"Texto válido\", texto)            "
   ]
  },
  {
   "cell_type": "code",
   "execution_count": 7,
   "metadata": {},
   "outputs": [
    {
     "name": "stdout",
     "output_type": "stream",
     "text": [
      "True\n"
     ]
    }
   ],
   "source": [
    "# Como foi feito na aula:\n",
    "def validar_string(string,minimo,maximo):\n",
    "    tamanho = len(string)\n",
    "    return minimo <= tamanho >= maximo\n",
    "resultado = validar_string(\"Olá\",1,3)\n",
    "print(resultado)"
   ]
  },
  {
   "cell_type": "code",
   "execution_count": 18,
   "metadata": {},
   "outputs": [
    {
     "name": "stdout",
     "output_type": "stream",
     "text": [
      "False\n"
     ]
    }
   ],
   "source": [
    "# EX 02: Valide se uma string inserida pelo usuário entá numa lista.\n",
    "def compare_string(string,lista):\n",
    "    return string in lista\n",
    "\n",
    "peças = [\"rei\",\"rainha\",\"torre\",\"bispo\",\"cavalo\",\"peao\"]\n",
    "teste = str(input(\"Insira uma palavra.\"))\n",
    "resultado = compare_string(teste,peças)\n",
    "print(resultado)"
   ]
  },
  {
   "cell_type": "code",
   "execution_count": 16,
   "metadata": {},
   "outputs": [
    {
     "name": "stdout",
     "output_type": "stream",
     "text": [
      "False\n"
     ]
    }
   ],
   "source": [
    "# Como foi feito na aula\n",
    "\n",
    "def compare_string(string,lista):\n",
    "    return string in lista\n",
    "\n",
    "peças = [\"rei\",\"rainha\",\"torre\",\"bispo\",\"cavalo\",\"peao\"]\n",
    "resultado = compare_string(\"tanque\", peças)\n",
    "print(resultado)          "
   ]
  },
  {
   "cell_type": "code",
   "execution_count": 21,
   "metadata": {},
   "outputs": [
    {
     "name": "stdout",
     "output_type": "stream",
     "text": [
      "3 4 <function sub at 0x0000020367AD4220>\n"
     ]
    }
   ],
   "source": [
    "# Funçôes como parâmetro\n",
    "def soma(a,b):\n",
    "    return a + b\n",
    "def sub(a,b):\n",
    "    return a - b\n",
    "def imprime(a,b,func_param):\n",
    "    print(a,b,func_param)\n",
    "\n",
    "resultado = imprime(3,4,sub)"
   ]
  },
  {
   "cell_type": "code",
   "execution_count": 24,
   "metadata": {},
   "outputs": [
    {
     "data": {
      "text/plain": [
       "6.5"
      ]
     },
     "execution_count": 24,
     "metadata": {},
     "output_type": "execute_result"
    }
   ],
   "source": [
    "# Calculando a media do resultado de funçôes diferentes\n",
    "def som(a,b):\n",
    "    return a + b\n",
    "def sub(a,b):\n",
    "    return a - b\n",
    "def mul(a,b):\n",
    "    return a * b\n",
    "def div(a,b):\n",
    "    return a / b\n",
    "\n",
    "resultado_som = som(2,3)\n",
    "resultado_sub = sub(4,2)\n",
    "resultado_mul = mul(3,5)\n",
    "resultado_div = div(20,5)\n",
    "\n",
    "def mean(a,b,c,d):\n",
    "    return (a + b + c + d) / 4\n",
    "\n",
    "mean(resultado_som,resultado_sub,resultado_mul,resultado_div)"
   ]
  },
  {
   "cell_type": "code",
   "execution_count": 27,
   "metadata": {},
   "outputs": [
    {
     "data": {
      "text/plain": [
       "6.5"
      ]
     },
     "execution_count": 27,
     "metadata": {},
     "output_type": "execute_result"
    }
   ],
   "source": [
    "# Como foi feito na aula:\n",
    "\n",
    "def som(a,b):\n",
    "    return a + b\n",
    "def sub(a,b):\n",
    "    return a - b\n",
    "def mul(a,b):\n",
    "    return a * b\n",
    "def div(a,b):\n",
    "    return a / b\n",
    "L_som = [2,3]\n",
    "L_sub = [4,2]\n",
    "L_mul = [3,5]\n",
    "L_div = [20,5]\n",
    "\n",
    "resultado_som = som(*L_som)\n",
    "resultado_sub = sub(*L_sub)\n",
    "resultado_div = div(*L_div)\n",
    "resultado_mul = mul(*L_mul)\n",
    "\n",
    "def mean(a,b,c,d):\n",
    "    return (a + b + c + d) / 4\n",
    "mean(resultado_som,resultado_sub,resultado_mul,resultado_div) "
   ]
  },
  {
   "cell_type": "code",
   "execution_count": 28,
   "metadata": {},
   "outputs": [
    {
     "name": "stdout",
     "output_type": "stream",
     "text": [
      "Note: you may need to restart the kernel to use updated packages.Collecting pandas\n",
      "  Downloading pandas-2.1.2-cp311-cp311-win_amd64.whl (10.6 MB)\n",
      "                                              0.0/10.6 MB ? eta -:--:--\n",
      "     --                                       0.6/10.6 MB 13.5 MB/s eta 0:00:01\n",
      "     ----                                     1.2/10.6 MB 12.7 MB/s eta 0:00:01\n",
      "     ------                                   1.6/10.6 MB 13.0 MB/s eta 0:00:01\n",
      "     ------                                   1.8/10.6 MB 9.7 MB/s eta 0:00:01\n",
      "     ---------                                2.4/10.6 MB 10.2 MB/s eta 0:00:01\n",
      "     -----------                              3.0/10.6 MB 10.5 MB/s eta 0:00:01\n",
      "     -------------                            3.5/10.6 MB 10.6 MB/s eta 0:00:01\n",
      "     -------------                            3.5/10.6 MB 10.6 MB/s eta 0:00:01\n",
      "     -------------                            3.5/10.6 MB 10.6 MB/s eta 0:00:01\n",
      "     -------------                            3.5/10.6 MB 10.6 MB/s eta 0:00:01\n",
      "     -------------                            3.5/10.6 MB 10.6 MB/s eta 0:00:01\n",
      "     -------------                            3.5/10.6 MB 10.6 MB/s eta 0:00:01\n",
      "     -------------                            3.5/10.6 MB 10.6 MB/s eta 0:00:01\n",
      "     -------------                            3.5/10.6 MB 10.6 MB/s eta 0:00:01\n",
      "     -------------                            3.5/10.6 MB 10.6 MB/s eta 0:00:01\n",
      "     -------------                            3.5/10.6 MB 10.6 MB/s eta 0:00:01\n",
      "     -------------                            3.5/10.6 MB 10.6 MB/s eta 0:00:01\n",
      "     -------------                            3.5/10.6 MB 10.6 MB/s eta 0:00:01\n",
      "     -------------                            3.5/10.6 MB 10.6 MB/s eta 0:00:01\n",
      "     -------------                            3.5/10.6 MB 10.6 MB/s eta 0:00:01\n",
      "     -------------                            3.5/10.6 MB 10.6 MB/s eta 0:00:01\n",
      "     --------------                           3.9/10.6 MB 3.8 MB/s eta 0:00:02\n",
      "     ----------------                         4.5/10.6 MB 4.1 MB/s eta 0:00:02\n",
      "     ------------------                       5.0/10.6 MB 4.4 MB/s eta 0:00:02\n",
      "     --------------------                     5.3/10.6 MB 4.7 MB/s eta 0:00:02\n",
      "     --------------------                     5.3/10.6 MB 4.7 MB/s eta 0:00:02\n",
      "     --------------------                     5.3/10.6 MB 4.7 MB/s eta 0:00:02\n",
      "     --------------------                     5.3/10.6 MB 4.7 MB/s eta 0:00:02\n",
      "     --------------------                     5.3/10.6 MB 4.7 MB/s eta 0:00:02\n",
      "     --------------------                     5.3/10.6 MB 4.7 MB/s eta 0:00:02\n",
      "     --------------------                     5.3/10.6 MB 4.7 MB/s eta 0:00:02\n",
      "     --------------------                     5.3/10.6 MB 4.7 MB/s eta 0:00:02\n",
      "     --------------------                     5.3/10.6 MB 4.7 MB/s eta 0:00:02\n",
      "     --------------------                     5.3/10.6 MB 4.7 MB/s eta 0:00:02\n",
      "     --------------------                     5.3/10.6 MB 4.7 MB/s eta 0:00:02\n",
      "     --------------------                     5.3/10.6 MB 4.7 MB/s eta 0:00:02\n",
      "     --------------------                     5.3/10.6 MB 4.7 MB/s eta 0:00:02\n",
      "     --------------------                     5.3/10.6 MB 4.7 MB/s eta 0:00:02\n",
      "     --------------------                     5.6/10.6 MB 3.0 MB/s eta 0:00:02\n",
      "     -----------------------                  6.3/10.6 MB 3.3 MB/s eta 0:00:02\n",
      "     --------------------------               6.9/10.6 MB 3.5 MB/s eta 0:00:02\n",
      "     --------------------------               7.2/10.6 MB 3.6 MB/s eta 0:00:01\n",
      "     --------------------------               7.2/10.6 MB 3.6 MB/s eta 0:00:01\n",
      "     --------------------------               7.2/10.6 MB 3.6 MB/s eta 0:00:01\n",
      "     --------------------------               7.2/10.6 MB 3.6 MB/s eta 0:00:01\n",
      "     --------------------------               7.2/10.6 MB 3.6 MB/s eta 0:00:01\n",
      "     --------------------------               7.2/10.6 MB 3.6 MB/s eta 0:00:01\n",
      "     --------------------------               7.2/10.6 MB 3.6 MB/s eta 0:00:01\n",
      "     --------------------------               7.2/10.6 MB 3.6 MB/s eta 0:00:01\n",
      "     --------------------------               7.2/10.6 MB 3.6 MB/s eta 0:00:01\n",
      "     --------------------------               7.2/10.6 MB 3.6 MB/s eta 0:00:01\n",
      "     --------------------------               7.2/10.6 MB 3.6 MB/s eta 0:00:01\n",
      "     --------------------------               7.2/10.6 MB 3.6 MB/s eta 0:00:01\n",
      "     --------------------------               7.2/10.6 MB 3.6 MB/s eta 0:00:01\n",
      "     --------------------------               7.2/10.6 MB 3.6 MB/s eta 0:00:01\n",
      "     ----------------------------             7.7/10.6 MB 2.9 MB/s eta 0:00:02\n",
      "     ------------------------------           8.2/10.6 MB 3.0 MB/s eta 0:00:01\n",
      "     --------------------------------         8.7/10.6 MB 3.2 MB/s eta 0:00:01\n",
      "     ---------------------------------        9.0/10.6 MB 3.2 MB/s eta 0:00:01\n",
      "     ---------------------------------        9.0/10.6 MB 3.2 MB/s eta 0:00:01\n",
      "     ---------------------------------        9.0/10.6 MB 3.2 MB/s eta 0:00:01\n",
      "     ---------------------------------        9.0/10.6 MB 3.2 MB/s eta 0:00:01\n",
      "     ---------------------------------        9.0/10.6 MB 3.2 MB/s eta 0:00:01\n",
      "     ---------------------------------        9.0/10.6 MB 3.2 MB/s eta 0:00:01\n",
      "     ---------------------------------        9.0/10.6 MB 3.2 MB/s eta 0:00:01\n",
      "     ---------------------------------        9.0/10.6 MB 3.2 MB/s eta 0:00:01\n",
      "     ---------------------------------        9.0/10.6 MB 3.2 MB/s eta 0:00:01\n",
      "     ---------------------------------        9.0/10.6 MB 3.2 MB/s eta 0:00:01\n",
      "     ---------------------------------        9.0/10.6 MB 3.2 MB/s eta 0:00:01\n",
      "     ---------------------------------        9.0/10.6 MB 3.2 MB/s eta 0:00:01\n",
      "     ---------------------------------        9.0/10.6 MB 3.2 MB/s eta 0:00:01\n",
      "     ---------------------------------        9.0/10.6 MB 3.2 MB/s eta 0:00:01\n",
      "     ----------------------------------       9.2/10.6 MB 2.6 MB/s eta 0:00:01\n",
      "     ------------------------------------     9.7/10.6 MB 2.7 MB/s eta 0:00:01\n",
      "     --------------------------------------   10.1/10.6 MB 2.8 MB/s eta 0:00:01\n",
      "     ---------------------------------------  10.6/10.6 MB 2.8 MB/s eta 0:00:01\n",
      "     ---------------------------------------  10.6/10.6 MB 2.8 MB/s eta 0:00:01\n",
      "     ---------------------------------------  10.6/10.6 MB 2.8 MB/s eta 0:00:01\n",
      "     ---------------------------------------  10.6/10.6 MB 2.8 MB/s eta 0:00:01\n",
      "     ---------------------------------------  10.6/10.6 MB 2.8 MB/s eta 0:00:01\n",
      "     ---------------------------------------  10.6/10.6 MB 2.8 MB/s eta 0:00:01\n",
      "     ---------------------------------------  10.6/10.6 MB 2.8 MB/s eta 0:00:01\n",
      "     ---------------------------------------  10.6/10.6 MB 2.8 MB/s eta 0:00:01\n",
      "     ---------------------------------------  10.6/10.6 MB 2.8 MB/s eta 0:00:01\n",
      "     ---------------------------------------  10.6/10.6 MB 2.8 MB/s eta 0:00:01\n",
      "     ---------------------------------------  10.6/10.6 MB 2.8 MB/s eta 0:00:01\n",
      "     ---------------------------------------  10.6/10.6 MB 2.8 MB/s eta 0:00:01\n",
      "     ---------------------------------------  10.6/10.6 MB 2.8 MB/s eta 0:00:01\n",
      "     ---------------------------------------  10.6/10.6 MB 2.8 MB/s eta 0:00:01\n",
      "     ---------------------------------------  10.6/10.6 MB 2.8 MB/s eta 0:00:01\n",
      "     ---------------------------------------  10.6/10.6 MB 2.8 MB/s eta 0:00:01\n",
      "     ---------------------------------------  10.6/10.6 MB 2.8 MB/s eta 0:00:01\n",
      "     ---------------------------------------- 10.6/10.6 MB 2.3 MB/s eta 0:00:00\n",
      "Collecting numpy<2,>=1.23.2 (from pandas)\n",
      "  Downloading numpy-1.26.1-cp311-cp311-win_amd64.whl (15.8 MB)\n",
      "                                              0.0/15.8 MB ? eta -:--:--\n",
      "     -                                        0.5/15.8 MB 15.5 MB/s eta 0:00:01\n",
      "     --                                       1.0/15.8 MB 12.7 MB/s eta 0:00:02\n",
      "     ---                                      1.5/15.8 MB 12.0 MB/s eta 0:00:02\n",
      "     ----                                     1.6/15.8 MB 11.2 MB/s eta 0:00:02\n",
      "     ----                                     1.6/15.8 MB 11.2 MB/s eta 0:00:02\n",
      "     ----                                     1.6/15.8 MB 11.2 MB/s eta 0:00:02\n",
      "     ----                                     1.6/15.8 MB 11.2 MB/s eta 0:00:02\n",
      "     ----                                     1.6/15.8 MB 11.2 MB/s eta 0:00:02\n",
      "     ----                                     1.8/15.8 MB 4.3 MB/s eta 0:00:04\n",
      "     -----                                    2.2/15.8 MB 4.9 MB/s eta 0:00:03\n",
      "     ------                                   2.7/15.8 MB 5.4 MB/s eta 0:00:03\n",
      "     --------                                 3.3/15.8 MB 6.0 MB/s eta 0:00:03\n",
      "     --------                                 3.4/15.8 MB 6.1 MB/s eta 0:00:03\n",
      "     --------                                 3.4/15.8 MB 6.1 MB/s eta 0:00:03\n",
      "     --------                                 3.4/15.8 MB 6.1 MB/s eta 0:00:03\n",
      "     --------                                 3.4/15.8 MB 6.1 MB/s eta 0:00:03\n",
      "     --------                                 3.4/15.8 MB 6.1 MB/s eta 0:00:03\n",
      "     --------                                 3.4/15.8 MB 6.1 MB/s eta 0:00:03\n",
      "     --------                                 3.4/15.8 MB 6.1 MB/s eta 0:00:03\n",
      "     --------                                 3.4/15.8 MB 6.1 MB/s eta 0:00:03\n",
      "     --------                                 3.4/15.8 MB 6.1 MB/s eta 0:00:03\n",
      "     --------                                 3.4/15.8 MB 6.1 MB/s eta 0:00:03\n",
      "     --------                                 3.4/15.8 MB 6.1 MB/s eta 0:00:03\n",
      "     --------                                 3.4/15.8 MB 6.1 MB/s eta 0:00:03\n",
      "     --------                                 3.4/15.8 MB 6.1 MB/s eta 0:00:03\n",
      "     --------                                 3.5/15.8 MB 2.9 MB/s eta 0:00:05\n",
      "     ---------                                3.9/15.8 MB 3.1 MB/s eta 0:00:04\n",
      "     ----------                               4.3/15.8 MB 3.3 MB/s eta 0:00:04\n",
      "     ------------                             4.8/15.8 MB 3.6 MB/s eta 0:00:04\n",
      "     -------------                            5.3/15.8 MB 3.8 MB/s eta 0:00:03\n",
      "     -------------                            5.3/15.8 MB 3.8 MB/s eta 0:00:03\n",
      "     -------------                            5.3/15.8 MB 3.8 MB/s eta 0:00:03\n",
      "     -------------                            5.3/15.8 MB 3.8 MB/s eta 0:00:03\n",
      "     -------------                            5.3/15.8 MB 3.8 MB/s eta 0:00:03\n",
      "     -------------                            5.3/15.8 MB 3.8 MB/s eta 0:00:03\n",
      "     -------------                            5.3/15.8 MB 3.8 MB/s eta 0:00:03\n",
      "     -------------                            5.3/15.8 MB 3.8 MB/s eta 0:00:03\n",
      "     -------------                            5.3/15.8 MB 3.8 MB/s eta 0:00:03\n",
      "     -------------                            5.3/15.8 MB 3.8 MB/s eta 0:00:03\n",
      "     -------------                            5.3/15.8 MB 3.8 MB/s eta 0:00:03\n",
      "     -------------                            5.3/15.8 MB 3.8 MB/s eta 0:00:03\n",
      "     -------------                            5.3/15.8 MB 3.8 MB/s eta 0:00:03\n",
      "     -------------                            5.3/15.8 MB 3.8 MB/s eta 0:00:03\n",
      "     -------------                            5.3/15.8 MB 2.6 MB/s eta 0:00:05\n",
      "     --------------                           5.7/15.8 MB 2.7 MB/s eta 0:00:04\n",
      "     ---------------                          6.1/15.8 MB 2.8 MB/s eta 0:00:04\n",
      "     ----------------                         6.6/15.8 MB 3.0 MB/s eta 0:00:04\n",
      "     -----------------                        7.1/15.8 MB 3.1 MB/s eta 0:00:03\n",
      "     -----------------                        7.1/15.8 MB 3.2 MB/s eta 0:00:03\n",
      "     -----------------                        7.1/15.8 MB 3.2 MB/s eta 0:00:03\n",
      "     -----------------                        7.1/15.8 MB 3.2 MB/s eta 0:00:03\n",
      "     -----------------                        7.1/15.8 MB 3.2 MB/s eta 0:00:03\n",
      "     -----------------                        7.1/15.8 MB 3.2 MB/s eta 0:00:03\n",
      "     -----------------                        7.1/15.8 MB 3.2 MB/s eta 0:00:03\n",
      "     -----------------                        7.1/15.8 MB 3.2 MB/s eta 0:00:03\n",
      "     -----------------                        7.1/15.8 MB 3.2 MB/s eta 0:00:03\n",
      "     -----------------                        7.1/15.8 MB 3.2 MB/s eta 0:00:03\n",
      "     -----------------                        7.1/15.8 MB 3.2 MB/s eta 0:00:03\n",
      "     -----------------                        7.1/15.8 MB 3.2 MB/s eta 0:00:03\n",
      "     -----------------                        7.1/15.8 MB 3.2 MB/s eta 0:00:03\n",
      "     -----------------                        7.1/15.8 MB 3.2 MB/s eta 0:00:03\n",
      "     -----------------                        7.1/15.8 MB 3.2 MB/s eta 0:00:03\n",
      "     ------------------                       7.4/15.8 MB 2.5 MB/s eta 0:00:04\n",
      "     -------------------                      7.9/15.8 MB 2.6 MB/s eta 0:00:04\n",
      "     ---------------------                    8.3/15.8 MB 2.7 MB/s eta 0:00:03\n",
      "     ----------------------                   8.8/15.8 MB 2.8 MB/s eta 0:00:03\n",
      "     ----------------------                   9.0/15.8 MB 2.9 MB/s eta 0:00:03\n",
      "     ----------------------                   9.0/15.8 MB 2.9 MB/s eta 0:00:03\n",
      "     ----------------------                   9.0/15.8 MB 2.9 MB/s eta 0:00:03\n",
      "     ----------------------                   9.0/15.8 MB 2.9 MB/s eta 0:00:03\n",
      "     ----------------------                   9.0/15.8 MB 2.9 MB/s eta 0:00:03\n",
      "     ----------------------                   9.0/15.8 MB 2.9 MB/s eta 0:00:03\n",
      "     ----------------------                   9.0/15.8 MB 2.9 MB/s eta 0:00:03\n",
      "     ----------------------                   9.0/15.8 MB 2.9 MB/s eta 0:00:03\n",
      "     ----------------------                   9.0/15.8 MB 2.9 MB/s eta 0:00:03\n",
      "     ----------------------                   9.0/15.8 MB 2.9 MB/s eta 0:00:03\n",
      "     ----------------------                   9.0/15.8 MB 2.9 MB/s eta 0:00:03\n",
      "     ----------------------                   9.0/15.8 MB 2.9 MB/s eta 0:00:03\n",
      "     ----------------------                   9.0/15.8 MB 2.9 MB/s eta 0:00:03\n",
      "     ----------------------                   9.0/15.8 MB 2.9 MB/s eta 0:00:03\n",
      "     -----------------------                  9.3/15.8 MB 2.4 MB/s eta 0:00:03\n",
      "     ------------------------                 9.7/15.8 MB 2.5 MB/s eta 0:00:03\n",
      "     -------------------------                10.2/15.8 MB 2.6 MB/s eta 0:00:03\n",
      "     --------------------------               10.6/15.8 MB 2.6 MB/s eta 0:00:02\n",
      "     ---------------------------              10.8/15.8 MB 2.6 MB/s eta 0:00:02\n",
      "     ---------------------------              10.8/15.8 MB 2.6 MB/s eta 0:00:02\n",
      "     ---------------------------              10.8/15.8 MB 2.6 MB/s eta 0:00:02\n",
      "     ---------------------------              10.8/15.8 MB 2.6 MB/s eta 0:00:02\n",
      "     ---------------------------              10.8/15.8 MB 2.6 MB/s eta 0:00:02\n",
      "     ---------------------------              10.8/15.8 MB 2.6 MB/s eta 0:00:02\n",
      "     ---------------------------              10.8/15.8 MB 2.6 MB/s eta 0:00:02\n",
      "     ---------------------------              10.8/15.8 MB 2.6 MB/s eta 0:00:02\n",
      "     ---------------------------              10.8/15.8 MB 2.6 MB/s eta 0:00:02\n",
      "     ---------------------------              10.8/15.8 MB 2.6 MB/s eta 0:00:02\n",
      "     ---------------------------              10.8/15.8 MB 2.6 MB/s eta 0:00:02\n",
      "     ---------------------------              10.8/15.8 MB 2.6 MB/s eta 0:00:02\n",
      "     ---------------------------              10.8/15.8 MB 2.6 MB/s eta 0:00:02\n",
      "     ---------------------------              10.8/15.8 MB 2.6 MB/s eta 0:00:02\n",
      "     ---------------------------              11.0/15.8 MB 2.2 MB/s eta 0:00:03\n",
      "     ----------------------------             11.4/15.8 MB 2.2 MB/s eta 0:00:02\n",
      "     ------------------------------           11.9/15.8 MB 2.4 MB/s eta 0:00:02\n",
      "     -------------------------------          12.3/15.8 MB 2.4 MB/s eta 0:00:02\n",
      "     --------------------------------         12.6/15.8 MB 2.3 MB/s eta 0:00:02\n",
      "     --------------------------------         12.6/15.8 MB 2.3 MB/s eta 0:00:02\n",
      "     --------------------------------         12.6/15.8 MB 2.3 MB/s eta 0:00:02\n",
      "     --------------------------------         12.6/15.8 MB 2.3 MB/s eta 0:00:02\n",
      "     --------------------------------         12.6/15.8 MB 2.3 MB/s eta 0:00:02\n",
      "     --------------------------------         12.6/15.8 MB 2.3 MB/s eta 0:00:02\n",
      "     --------------------------------         12.6/15.8 MB 2.3 MB/s eta 0:00:02\n",
      "     --------------------------------         12.6/15.8 MB 2.3 MB/s eta 0:00:02\n",
      "     --------------------------------         12.6/15.8 MB 2.3 MB/s eta 0:00:02\n",
      "     --------------------------------         12.6/15.8 MB 2.3 MB/s eta 0:00:02\n",
      "     --------------------------------         12.6/15.8 MB 2.3 MB/s eta 0:00:02\n",
      "     --------------------------------         12.6/15.8 MB 2.3 MB/s eta 0:00:02\n",
      "     --------------------------------         12.6/15.8 MB 2.3 MB/s eta 0:00:02\n",
      "     --------------------------------         12.6/15.8 MB 2.3 MB/s eta 0:00:02\n",
      "     --------------------------------         12.8/15.8 MB 2.0 MB/s eta 0:00:02\n",
      "     ---------------------------------        13.2/15.8 MB 2.0 MB/s eta 0:00:02\n",
      "     ----------------------------------       13.6/15.8 MB 2.0 MB/s eta 0:00:02\n",
      "     -----------------------------------      14.1/15.8 MB 2.3 MB/s eta 0:00:01\n",
      "     ------------------------------------     14.5/15.8 MB 2.3 MB/s eta 0:00:01\n",
      "     ------------------------------------     14.5/15.8 MB 2.3 MB/s eta 0:00:01\n",
      "     ------------------------------------     14.5/15.8 MB 2.3 MB/s eta 0:00:01\n",
      "     ------------------------------------     14.5/15.8 MB 2.3 MB/s eta 0:00:01\n",
      "     ------------------------------------     14.5/15.8 MB 2.3 MB/s eta 0:00:01\n",
      "     ------------------------------------     14.5/15.8 MB 2.3 MB/s eta 0:00:01\n",
      "     ------------------------------------     14.5/15.8 MB 2.3 MB/s eta 0:00:01\n",
      "     ------------------------------------     14.5/15.8 MB 2.3 MB/s eta 0:00:01\n",
      "     ------------------------------------     14.5/15.8 MB 2.3 MB/s eta 0:00:01\n",
      "     ------------------------------------     14.5/15.8 MB 2.3 MB/s eta 0:00:01\n",
      "     ------------------------------------     14.5/15.8 MB 2.3 MB/s eta 0:00:01\n",
      "     ------------------------------------     14.5/15.8 MB 2.3 MB/s eta 0:00:01\n",
      "     ------------------------------------     14.5/15.8 MB 2.3 MB/s eta 0:00:01\n",
      "     ------------------------------------     14.5/15.8 MB 2.3 MB/s eta 0:00:01\n",
      "     ------------------------------------     14.6/15.8 MB 2.0 MB/s eta 0:00:01\n",
      "     -------------------------------------    15.0/15.8 MB 2.0 MB/s eta 0:00:01\n",
      "     --------------------------------------   15.4/15.8 MB 2.0 MB/s eta 0:00:01\n",
      "     ---------------------------------------  15.8/15.8 MB 2.3 MB/s eta 0:00:01\n",
      "     ---------------------------------------  15.8/15.8 MB 2.3 MB/s eta 0:00:01\n",
      "     ---------------------------------------  15.8/15.8 MB 2.3 MB/s eta 0:00:01\n",
      "     ---------------------------------------- 15.8/15.8 MB 2.3 MB/s eta 0:00:00\n",
      "Requirement already satisfied: python-dateutil>=2.8.2 in c:\\python311\\lib\\site-packages (from pandas) (2.8.2)\n",
      "Collecting pytz>=2020.1 (from pandas)\n",
      "  Downloading pytz-2023.3.post1-py2.py3-none-any.whl (502 kB)\n",
      "                                              0.0/502.5 kB ? eta -:--:--\n",
      "     ------------------------------------  501.8/502.5 kB 10.5 MB/s eta 0:00:01\n",
      "     ------------------------------------  501.8/502.5 kB 10.5 MB/s eta 0:00:01\n",
      "     -------------------------------------- 502.5/502.5 kB 5.2 MB/s eta 0:00:00\n",
      "Collecting tzdata>=2022.1 (from pandas)\n",
      "  Using cached tzdata-2023.3-py2.py3-none-any.whl (341 kB)\n",
      "Requirement already satisfied: six>=1.5 in c:\\python311\\lib\\site-packages (from python-dateutil>=2.8.2->pandas) (1.16.0)\n",
      "Installing collected packages: pytz, tzdata, numpy, pandas\n",
      "Successfully installed numpy-1.26.1 pandas-2.1.2 pytz-2023.3.post1 tzdata-2023.3\n",
      "\n"
     ]
    },
    {
     "name": "stderr",
     "output_type": "stream",
     "text": [
      "\n",
      "[notice] A new release of pip is available: 23.1.2 -> 23.3.1\n",
      "[notice] To update, run: python.exe -m pip install --upgrade pip\n"
     ]
    }
   ],
   "source": [
    "pip install pandas\n"
   ]
  },
  {
   "cell_type": "code",
   "execution_count": 31,
   "metadata": {},
   "outputs": [
    {
     "data": {
      "text/plain": [
       "150"
      ]
     },
     "execution_count": 31,
     "metadata": {},
     "output_type": "execute_result"
    }
   ],
   "source": [
    "# Aplicação de função em dados.\n",
    "# Somar valores de uma coluna numérica\n",
    "\n",
    "import pandas as pd\n",
    "\n",
    "data = {\"coluna 1\": [10,20,30,40,50],\n",
    "        \"coluna 2\": [5,10,15,20,25],\n",
    "        \"coluna 3\": [\"a\",\"b\",\"c\",\"d\",\"e\"],\n",
    "        \"coluna 4\": [\"x\",\"y\",\"z\",\"w\",\"v\"]}\n",
    "\n",
    "df = pd.DataFrame(data)\n",
    "\n",
    "def soma_coluna_numerica(coluna):\n",
    "    return coluna.sum()\n",
    "\n",
    "resultado_soma = soma_coluna_numerica(df[\"coluna 1\"])\n",
    "resultado_soma"
   ]
  },
  {
   "cell_type": "code",
   "execution_count": 33,
   "metadata": {},
   "outputs": [
    {
     "data": {
      "text/plain": [
       "150"
      ]
     },
     "execution_count": 33,
     "metadata": {},
     "output_type": "execute_result"
    }
   ],
   "source": [
    "# cálculo da média\n",
    "\n",
    "def media_coluna(coluna):\n",
    "    return coluna.sum()\n",
    "\n",
    "resultado = media_coluna(df[\"coluna 1\"])\n",
    "resultado"
   ]
  },
  {
   "cell_type": "code",
   "execution_count": 39,
   "metadata": {},
   "outputs": [
    {
     "data": {
      "text/html": [
       "<div>\n",
       "<style scoped>\n",
       "    .dataframe tbody tr th:only-of-type {\n",
       "        vertical-align: middle;\n",
       "    }\n",
       "\n",
       "    .dataframe tbody tr th {\n",
       "        vertical-align: top;\n",
       "    }\n",
       "\n",
       "    .dataframe thead th {\n",
       "        text-align: right;\n",
       "    }\n",
       "</style>\n",
       "<table border=\"1\" class=\"dataframe\">\n",
       "  <thead>\n",
       "    <tr style=\"text-align: right;\">\n",
       "      <th></th>\n",
       "      <th>coluna 1</th>\n",
       "      <th>coluna 2</th>\n",
       "      <th>coluna 3</th>\n",
       "      <th>coluna 4</th>\n",
       "      <th>soma</th>\n",
       "    </tr>\n",
       "  </thead>\n",
       "  <tbody>\n",
       "    <tr>\n",
       "      <th>0</th>\n",
       "      <td>10</td>\n",
       "      <td>5</td>\n",
       "      <td>a</td>\n",
       "      <td>x</td>\n",
       "      <td>15</td>\n",
       "    </tr>\n",
       "    <tr>\n",
       "      <th>1</th>\n",
       "      <td>20</td>\n",
       "      <td>10</td>\n",
       "      <td>b</td>\n",
       "      <td>y</td>\n",
       "      <td>30</td>\n",
       "    </tr>\n",
       "    <tr>\n",
       "      <th>2</th>\n",
       "      <td>30</td>\n",
       "      <td>15</td>\n",
       "      <td>c</td>\n",
       "      <td>z</td>\n",
       "      <td>45</td>\n",
       "    </tr>\n",
       "    <tr>\n",
       "      <th>3</th>\n",
       "      <td>40</td>\n",
       "      <td>20</td>\n",
       "      <td>d</td>\n",
       "      <td>w</td>\n",
       "      <td>60</td>\n",
       "    </tr>\n",
       "    <tr>\n",
       "      <th>4</th>\n",
       "      <td>50</td>\n",
       "      <td>25</td>\n",
       "      <td>e</td>\n",
       "      <td>v</td>\n",
       "      <td>75</td>\n",
       "    </tr>\n",
       "  </tbody>\n",
       "</table>\n",
       "</div>"
      ],
      "text/plain": [
       "   coluna 1  coluna 2 coluna 3 coluna 4  soma\n",
       "0        10         5        a        x    15\n",
       "1        20        10        b        y    30\n",
       "2        30        15        c        z    45\n",
       "3        40        20        d        w    60\n",
       "4        50        25        e        v    75"
      ]
     },
     "execution_count": 39,
     "metadata": {},
     "output_type": "execute_result"
    }
   ],
   "source": [
    "# Cálculo da soma de duas colunas usando função def\n",
    "\n",
    "def soma_coluna(df):\n",
    "    df[\"soma\"] = df[\"coluna 1\"] + df[\"coluna 2\"]\n",
    "    return df\n",
    "soma_coluna(df)    "
   ]
  },
  {
   "cell_type": "code",
   "execution_count": null,
   "metadata": {},
   "outputs": [],
   "source": [
    "# Adicionando uma coluna no dataframe com informações sobre o covid\n",
    "import pandas as pd\n",
    "\n",
    "data = {\n",
    "'Nome': ['Alice', 'Bob', 'Charlie', 'Ana', 'Alice', 'Bob'],\n",
    "'Idade': [25, 30, 22, 22, 38, 35],\n",
    "'País': ['Brasil', 'Inglaterra', 'Estados Unidos', 'Itália', 'Austrália', 'México'],\n",
    "}\n",
    "\n",
    "df = pd.DataFrame(data)\n",
    "\n",
    "indice = 0\n",
    "covid = []\n",
    "\n",
    "while indice < len(df):\n",
    "    pais = df['País'][indice]\n",
    "    if pais == 'Brasil' or pais == 'Itália':\n",
    "        covid.append('Positivo')\n",
    "    else:\n",
    "        covid.append('Negativo')\n",
    "    indice +=1\n",
    "df['Covid'] = covid\n",
    "\n",
    "indice = 0\n",
    "vacina = []\n",
    "\n",
    "while indice < len(df):\n",
    "    vacinação = df['Covid'][indice]\n",
    "    if vacinação == 'Positivo':\n",
    "        vacina.append('Descansar')\n",
    "    else:\n",
    "        vacina.append('Pode se vacinar')\n",
    "    indice +=1\n",
    "df['Vacina'] = vacina\n",
    "indice = 0\n",
    "prioridade = []\n",
    "\n",
    "# adicione uma coluna onde mostre que pacientes que possuem prioridade na vacinação se puderem se vacinar e se a sua idade for maior que 35      \n",
    "\n",
    "\n",
    "     "
   ]
  },
  {
   "cell_type": "code",
   "execution_count": 34,
   "metadata": {},
   "outputs": [],
   "source": [
    "# Como exportar o dataframe em um arquivo csv\n",
    "df.to_csv(\"arquivo_csv.csv\")"
   ]
  },
  {
   "cell_type": "code",
   "execution_count": 14,
   "metadata": {},
   "outputs": [
    {
     "name": "stdout",
     "output_type": "stream",
     "text": [
      "A letra inserida não está contida. Tente novamente\n",
      "A letra inserida não está contida. Tente novamente\n",
      "A letra está contida na lista\n"
     ]
    }
   ],
   "source": [
    "def get_letters(dentro):\n",
    "    while True:\n",
    "        w = str(input(\"Insira uma letra\"))\n",
    "        if w not in dentro:\n",
    "            print(\"A letra inserida não está contida. Tente novamente\")\n",
    "        else:\n",
    "            return w\n",
    "dentro = [\"a\",\"b\",\"c\",\"d\",\"e\"]\n",
    "\n",
    "texto = get_letters(dentro)\n",
    "print(\"A letra está contida na lista\")"
   ]
  }
 ],
 "metadata": {
  "kernelspec": {
   "display_name": "Python 3",
   "language": "python",
   "name": "python3"
  },
  "language_info": {
   "codemirror_mode": {
    "name": "ipython",
    "version": 3
   },
   "file_extension": ".py",
   "mimetype": "text/x-python",
   "name": "python",
   "nbconvert_exporter": "python",
   "pygments_lexer": "ipython3",
   "version": "3.11.4"
  },
  "orig_nbformat": 4
 },
 "nbformat": 4,
 "nbformat_minor": 2
}
